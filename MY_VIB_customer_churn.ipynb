{
  "nbformat": 4,
  "nbformat_minor": 0,
  "metadata": {
    "colab": {
      "name": "MY VIB customer churn.ipynb",
      "provenance": [],
      "collapsed_sections": []
    },
    "kernelspec": {
      "name": "python3",
      "display_name": "Python 3"
    },
    "language_info": {
      "name": "python"
    },
    "accelerator": "GPU"
  },
  "cells": [
    {
      "cell_type": "code",
      "metadata": {
        "id": "r-N3YrU5CzPV",
        "colab": {
          "base_uri": "https://localhost:8080/"
        },
        "outputId": "31700fb6-2a15-4004-c440-ac46f66ebe1f"
      },
      "source": [
        "from google.colab import drive\n",
        "drive.mount('/content/gdrive')"
      ],
      "execution_count": null,
      "outputs": [
        {
          "output_type": "stream",
          "text": [
            "Drive already mounted at /content/gdrive; to attempt to forcibly remount, call drive.mount(\"/content/gdrive\", force_remount=True).\n"
          ],
          "name": "stdout"
        }
      ]
    },
    {
      "cell_type": "code",
      "metadata": {
        "colab": {
          "base_uri": "https://localhost:8080/"
        },
        "id": "C1NojhaNMfSf",
        "outputId": "1c7832b0-8e4c-43a1-a391-28349fd977a6"
      },
      "source": [
        "!ls \"/content/gdrive/MyDrive/VIB DATA/4.Data_Deposit.csv\""
      ],
      "execution_count": null,
      "outputs": [
        {
          "output_type": "stream",
          "text": [
            "'/content/gdrive/MyDrive/VIB DATA/4.Data_Deposit.csv'\n"
          ],
          "name": "stdout"
        }
      ]
    },
    {
      "cell_type": "code",
      "metadata": {
        "id": "BaTDf4DtFyfF"
      },
      "source": [
        ""
      ],
      "execution_count": null,
      "outputs": []
    },
    {
      "cell_type": "code",
      "metadata": {
        "id": "96iG-1rrEr5p"
      },
      "source": [
        "import pandas as pd\n",
        "import matplotlib.pyplot as plt\n",
        "import seaborn as sns\n",
        "import datetime\n",
        "import numpy as np\n",
        "from sklearn.linear_model import LogisticRegression\n"
      ],
      "execution_count": null,
      "outputs": []
    },
    {
      "cell_type": "markdown",
      "metadata": {
        "id": "AVUgbvEodvMQ"
      },
      "source": [
        "# Data customer"
      ]
    },
    {
      "cell_type": "code",
      "metadata": {
        "colab": {
          "base_uri": "https://localhost:8080/"
        },
        "id": "N2gvMiA4eATs",
        "outputId": "84ece25d-425e-42be-c353-21b64e14be52"
      },
      "source": [
        " data_customer = pd.read_csv('/content/gdrive/MyDrive/VIB DATA/1.Data_Customer.csv')"
      ],
      "execution_count": null,
      "outputs": [
        {
          "output_type": "stream",
          "text": [
            "/usr/local/lib/python3.7/dist-packages/IPython/core/interactiveshell.py:2718: DtypeWarning: Columns (5,6,7,8) have mixed types.Specify dtype option on import or set low_memory=False.\n",
            "  interactivity=interactivity, compiler=compiler, result=result)\n"
          ],
          "name": "stderr"
        }
      ]
    },
    {
      "cell_type": "code",
      "metadata": {
        "id": "KVt_SF5VeMyc",
        "colab": {
          "base_uri": "https://localhost:8080/",
          "height": 417
        },
        "outputId": "47c476c7-72e8-4408-9bc6-683e43ac1cf3"
      },
      "source": [
        " data_customer.sort_values('CUSTOMER_NUMBER',ascending=True, inplace=True)\n",
        " data_customer = data_customer.fillna(0)\n",
        " data_customer = data_customer[data_customer['IB_REGISTER_DATE']!= 0]\n",
        " data_customer = data_customer[(data_customer['DATE_OF_BIRTH']!= '0996-07-28 00:00:00') &(data_customer['DATE_OF_BIRTH']!= '1061-06-12 00:00:00')]\n",
        "data_customer = data_customer[data_customer['IB_REGISTER_DATE'] < '2020-01-01']\n",
        "data_customer"
      ],
      "execution_count": null,
      "outputs": [
        {
          "output_type": "execute_result",
          "data": {
            "text/html": [
              "<div>\n",
              "<style scoped>\n",
              "    .dataframe tbody tr th:only-of-type {\n",
              "        vertical-align: middle;\n",
              "    }\n",
              "\n",
              "    .dataframe tbody tr th {\n",
              "        vertical-align: top;\n",
              "    }\n",
              "\n",
              "    .dataframe thead th {\n",
              "        text-align: right;\n",
              "    }\n",
              "</style>\n",
              "<table border=\"1\" class=\"dataframe\">\n",
              "  <thead>\n",
              "    <tr style=\"text-align: right;\">\n",
              "      <th></th>\n",
              "      <th>CUSTOMER_NUMBER</th>\n",
              "      <th>CLIENT_SEX</th>\n",
              "      <th>CLIENT_CREATE_DATE</th>\n",
              "      <th>DATE_OF_BIRTH</th>\n",
              "      <th>STAFF_VIB</th>\n",
              "      <th>IB_REGISTER_DATE</th>\n",
              "      <th>EB_REGISTER_CHANNEL</th>\n",
              "      <th>SMS</th>\n",
              "      <th>VERIFY_METHOD</th>\n",
              "    </tr>\n",
              "  </thead>\n",
              "  <tbody>\n",
              "    <tr>\n",
              "      <th>56746</th>\n",
              "      <td>0</td>\n",
              "      <td>F</td>\n",
              "      <td>2019-09-16</td>\n",
              "      <td>1988-10-08 00:00:00</td>\n",
              "      <td>N</td>\n",
              "      <td>2019-09-17</td>\n",
              "      <td>BRANCH</td>\n",
              "      <td>N</td>\n",
              "      <td>SMART_OTP</td>\n",
              "    </tr>\n",
              "    <tr>\n",
              "      <th>74724</th>\n",
              "      <td>3</td>\n",
              "      <td>M</td>\n",
              "      <td>2019-04-16</td>\n",
              "      <td>1987-08-15 00:00:00</td>\n",
              "      <td>N</td>\n",
              "      <td>2019-06-05</td>\n",
              "      <td>MYVIB</td>\n",
              "      <td>Y</td>\n",
              "      <td>SMART_OTP</td>\n",
              "    </tr>\n",
              "    <tr>\n",
              "      <th>66835</th>\n",
              "      <td>9</td>\n",
              "      <td>M</td>\n",
              "      <td>2019-09-30</td>\n",
              "      <td>1982-04-15 00:00:00</td>\n",
              "      <td>N</td>\n",
              "      <td>2019-10-01</td>\n",
              "      <td>BRANCH</td>\n",
              "      <td>Y</td>\n",
              "      <td>SMART_OTP</td>\n",
              "    </tr>\n",
              "    <tr>\n",
              "      <th>147021</th>\n",
              "      <td>13</td>\n",
              "      <td>F</td>\n",
              "      <td>2019-09-06</td>\n",
              "      <td>1993-07-14 00:00:00</td>\n",
              "      <td>N</td>\n",
              "      <td>2019-09-06</td>\n",
              "      <td>BRANCH</td>\n",
              "      <td>N</td>\n",
              "      <td>SMART_OTP</td>\n",
              "    </tr>\n",
              "    <tr>\n",
              "      <th>20737</th>\n",
              "      <td>14</td>\n",
              "      <td>F</td>\n",
              "      <td>2019-07-02</td>\n",
              "      <td>1991-11-07 00:00:00</td>\n",
              "      <td>N</td>\n",
              "      <td>2019-07-02</td>\n",
              "      <td>AUTO-JOB</td>\n",
              "      <td>N</td>\n",
              "      <td>SMART_OTP</td>\n",
              "    </tr>\n",
              "    <tr>\n",
              "      <th>...</th>\n",
              "      <td>...</td>\n",
              "      <td>...</td>\n",
              "      <td>...</td>\n",
              "      <td>...</td>\n",
              "      <td>...</td>\n",
              "      <td>...</td>\n",
              "      <td>...</td>\n",
              "      <td>...</td>\n",
              "      <td>...</td>\n",
              "    </tr>\n",
              "    <tr>\n",
              "      <th>36578</th>\n",
              "      <td>999969</td>\n",
              "      <td>F</td>\n",
              "      <td>2019-03-22</td>\n",
              "      <td>1995-06-20 00:00:00</td>\n",
              "      <td>N</td>\n",
              "      <td>2019-03-22</td>\n",
              "      <td>BRANCH</td>\n",
              "      <td>Y</td>\n",
              "      <td>SMART_OTP</td>\n",
              "    </tr>\n",
              "    <tr>\n",
              "      <th>57576</th>\n",
              "      <td>999972</td>\n",
              "      <td>M</td>\n",
              "      <td>2019-08-19</td>\n",
              "      <td>1991-09-17 00:00:00</td>\n",
              "      <td>N</td>\n",
              "      <td>2019-08-20</td>\n",
              "      <td>BRANCH</td>\n",
              "      <td>Y</td>\n",
              "      <td>SMART_OTP</td>\n",
              "    </tr>\n",
              "    <tr>\n",
              "      <th>102172</th>\n",
              "      <td>999982</td>\n",
              "      <td>M</td>\n",
              "      <td>2019-07-22</td>\n",
              "      <td>1993-08-26 00:00:00</td>\n",
              "      <td>N</td>\n",
              "      <td>2019-07-26</td>\n",
              "      <td>AUTO-JOB</td>\n",
              "      <td>N</td>\n",
              "      <td>SMART_OTP</td>\n",
              "    </tr>\n",
              "    <tr>\n",
              "      <th>79131</th>\n",
              "      <td>999996</td>\n",
              "      <td>M</td>\n",
              "      <td>2019-10-02</td>\n",
              "      <td>1957-01-09 00:00:00</td>\n",
              "      <td>N</td>\n",
              "      <td>2019-10-02</td>\n",
              "      <td>BRANCH</td>\n",
              "      <td>Y</td>\n",
              "      <td>SMART_OTP</td>\n",
              "    </tr>\n",
              "    <tr>\n",
              "      <th>20771</th>\n",
              "      <td>999997</td>\n",
              "      <td>M</td>\n",
              "      <td>2019-09-05</td>\n",
              "      <td>1994-01-26 00:00:00</td>\n",
              "      <td>N</td>\n",
              "      <td>2019-09-05</td>\n",
              "      <td>BRANCH</td>\n",
              "      <td>N</td>\n",
              "      <td>SMART_OTP</td>\n",
              "    </tr>\n",
              "  </tbody>\n",
              "</table>\n",
              "<p>134203 rows × 9 columns</p>\n",
              "</div>"
            ],
            "text/plain": [
              "        CUSTOMER_NUMBER CLIENT_SEX  ... SMS VERIFY_METHOD\n",
              "56746                 0          F  ...   N     SMART_OTP\n",
              "74724                 3          M  ...   Y     SMART_OTP\n",
              "66835                 9          M  ...   Y     SMART_OTP\n",
              "147021               13          F  ...   N     SMART_OTP\n",
              "20737                14          F  ...   N     SMART_OTP\n",
              "...                 ...        ...  ...  ..           ...\n",
              "36578            999969          F  ...   Y     SMART_OTP\n",
              "57576            999972          M  ...   Y     SMART_OTP\n",
              "102172           999982          M  ...   N     SMART_OTP\n",
              "79131            999996          M  ...   Y     SMART_OTP\n",
              "20771            999997          M  ...   N     SMART_OTP\n",
              "\n",
              "[134203 rows x 9 columns]"
            ]
          },
          "metadata": {
            "tags": []
          },
          "execution_count": 204
        }
      ]
    },
    {
      "cell_type": "code",
      "metadata": {
        "colab": {
          "base_uri": "https://localhost:8080/",
          "height": 142
        },
        "id": "GAa7XIoqc2Dz",
        "outputId": "4ff38b0f-b411-4636-b00c-08506a47653a"
      },
      "source": [
        "data_customer['month'] = pd.DatetimeIndex(data_customer['DATE_OF_BIRTH']).year\n",
        "data_customer['age'] = 2019 - data_customer['month']\n",
        "data_customer[data_customer['age']==114]\n"
      ],
      "execution_count": null,
      "outputs": [
        {
          "output_type": "execute_result",
          "data": {
            "text/html": [
              "<div>\n",
              "<style scoped>\n",
              "    .dataframe tbody tr th:only-of-type {\n",
              "        vertical-align: middle;\n",
              "    }\n",
              "\n",
              "    .dataframe tbody tr th {\n",
              "        vertical-align: top;\n",
              "    }\n",
              "\n",
              "    .dataframe thead th {\n",
              "        text-align: right;\n",
              "    }\n",
              "</style>\n",
              "<table border=\"1\" class=\"dataframe\">\n",
              "  <thead>\n",
              "    <tr style=\"text-align: right;\">\n",
              "      <th></th>\n",
              "      <th>CUSTOMER_NUMBER</th>\n",
              "      <th>CLIENT_SEX</th>\n",
              "      <th>CLIENT_CREATE_DATE</th>\n",
              "      <th>DATE_OF_BIRTH</th>\n",
              "      <th>STAFF_VIB</th>\n",
              "      <th>IB_REGISTER_DATE</th>\n",
              "      <th>EB_REGISTER_CHANNEL</th>\n",
              "      <th>SMS</th>\n",
              "      <th>VERIFY_METHOD</th>\n",
              "      <th>month</th>\n",
              "      <th>age</th>\n",
              "    </tr>\n",
              "  </thead>\n",
              "  <tbody>\n",
              "    <tr>\n",
              "      <th>26726</th>\n",
              "      <td>152668</td>\n",
              "      <td>M</td>\n",
              "      <td>2019-09-03</td>\n",
              "      <td>1905-06-14 00:00:00</td>\n",
              "      <td>N</td>\n",
              "      <td>2019-10-09</td>\n",
              "      <td>MYVIB</td>\n",
              "      <td>N</td>\n",
              "      <td>SMART_OTP</td>\n",
              "      <td>1905</td>\n",
              "      <td>114</td>\n",
              "    </tr>\n",
              "    <tr>\n",
              "      <th>21011</th>\n",
              "      <td>436283</td>\n",
              "      <td>M</td>\n",
              "      <td>2019-09-03</td>\n",
              "      <td>1905-06-07 00:00:00</td>\n",
              "      <td>N</td>\n",
              "      <td>2019-10-03</td>\n",
              "      <td>MYVIB</td>\n",
              "      <td>N</td>\n",
              "      <td>SMART_OTP</td>\n",
              "      <td>1905</td>\n",
              "      <td>114</td>\n",
              "    </tr>\n",
              "    <tr>\n",
              "      <th>121721</th>\n",
              "      <td>540285</td>\n",
              "      <td>M</td>\n",
              "      <td>2019-05-23</td>\n",
              "      <td>1905-06-05 00:00:00</td>\n",
              "      <td>N</td>\n",
              "      <td>2019-07-09</td>\n",
              "      <td>BRANCH</td>\n",
              "      <td>Y</td>\n",
              "      <td>SMART_OTP</td>\n",
              "      <td>1905</td>\n",
              "      <td>114</td>\n",
              "    </tr>\n",
              "  </tbody>\n",
              "</table>\n",
              "</div>"
            ],
            "text/plain": [
              "        CUSTOMER_NUMBER CLIENT_SEX CLIENT_CREATE_DATE  ... VERIFY_METHOD month  age\n",
              "26726            152668          M         2019-09-03  ...     SMART_OTP  1905  114\n",
              "21011            436283          M         2019-09-03  ...     SMART_OTP  1905  114\n",
              "121721           540285          M         2019-05-23  ...     SMART_OTP  1905  114\n",
              "\n",
              "[3 rows x 11 columns]"
            ]
          },
          "metadata": {
            "tags": []
          },
          "execution_count": 205
        }
      ]
    },
    {
      "cell_type": "code",
      "metadata": {
        "colab": {
          "base_uri": "https://localhost:8080/",
          "height": 417
        },
        "id": "9LkgVJsnCU9u",
        "outputId": "7822eeee-113e-439d-fc10-813f242e669c"
      },
      "source": [
        "data_customerfn = data_customer.drop(['CLIENT_CREATE_DATE','DATE_OF_BIRTH','month','IB_REGISTER_DATE'], axis = 1)\n",
        "data_customerfn"
      ],
      "execution_count": null,
      "outputs": [
        {
          "output_type": "execute_result",
          "data": {
            "text/html": [
              "<div>\n",
              "<style scoped>\n",
              "    .dataframe tbody tr th:only-of-type {\n",
              "        vertical-align: middle;\n",
              "    }\n",
              "\n",
              "    .dataframe tbody tr th {\n",
              "        vertical-align: top;\n",
              "    }\n",
              "\n",
              "    .dataframe thead th {\n",
              "        text-align: right;\n",
              "    }\n",
              "</style>\n",
              "<table border=\"1\" class=\"dataframe\">\n",
              "  <thead>\n",
              "    <tr style=\"text-align: right;\">\n",
              "      <th></th>\n",
              "      <th>CUSTOMER_NUMBER</th>\n",
              "      <th>CLIENT_SEX</th>\n",
              "      <th>STAFF_VIB</th>\n",
              "      <th>EB_REGISTER_CHANNEL</th>\n",
              "      <th>SMS</th>\n",
              "      <th>VERIFY_METHOD</th>\n",
              "      <th>age</th>\n",
              "    </tr>\n",
              "  </thead>\n",
              "  <tbody>\n",
              "    <tr>\n",
              "      <th>56746</th>\n",
              "      <td>0</td>\n",
              "      <td>F</td>\n",
              "      <td>N</td>\n",
              "      <td>BRANCH</td>\n",
              "      <td>N</td>\n",
              "      <td>SMART_OTP</td>\n",
              "      <td>31</td>\n",
              "    </tr>\n",
              "    <tr>\n",
              "      <th>74724</th>\n",
              "      <td>3</td>\n",
              "      <td>M</td>\n",
              "      <td>N</td>\n",
              "      <td>MYVIB</td>\n",
              "      <td>Y</td>\n",
              "      <td>SMART_OTP</td>\n",
              "      <td>32</td>\n",
              "    </tr>\n",
              "    <tr>\n",
              "      <th>66835</th>\n",
              "      <td>9</td>\n",
              "      <td>M</td>\n",
              "      <td>N</td>\n",
              "      <td>BRANCH</td>\n",
              "      <td>Y</td>\n",
              "      <td>SMART_OTP</td>\n",
              "      <td>37</td>\n",
              "    </tr>\n",
              "    <tr>\n",
              "      <th>147021</th>\n",
              "      <td>13</td>\n",
              "      <td>F</td>\n",
              "      <td>N</td>\n",
              "      <td>BRANCH</td>\n",
              "      <td>N</td>\n",
              "      <td>SMART_OTP</td>\n",
              "      <td>26</td>\n",
              "    </tr>\n",
              "    <tr>\n",
              "      <th>20737</th>\n",
              "      <td>14</td>\n",
              "      <td>F</td>\n",
              "      <td>N</td>\n",
              "      <td>AUTO-JOB</td>\n",
              "      <td>N</td>\n",
              "      <td>SMART_OTP</td>\n",
              "      <td>28</td>\n",
              "    </tr>\n",
              "    <tr>\n",
              "      <th>...</th>\n",
              "      <td>...</td>\n",
              "      <td>...</td>\n",
              "      <td>...</td>\n",
              "      <td>...</td>\n",
              "      <td>...</td>\n",
              "      <td>...</td>\n",
              "      <td>...</td>\n",
              "    </tr>\n",
              "    <tr>\n",
              "      <th>36578</th>\n",
              "      <td>999969</td>\n",
              "      <td>F</td>\n",
              "      <td>N</td>\n",
              "      <td>BRANCH</td>\n",
              "      <td>Y</td>\n",
              "      <td>SMART_OTP</td>\n",
              "      <td>24</td>\n",
              "    </tr>\n",
              "    <tr>\n",
              "      <th>57576</th>\n",
              "      <td>999972</td>\n",
              "      <td>M</td>\n",
              "      <td>N</td>\n",
              "      <td>BRANCH</td>\n",
              "      <td>Y</td>\n",
              "      <td>SMART_OTP</td>\n",
              "      <td>28</td>\n",
              "    </tr>\n",
              "    <tr>\n",
              "      <th>102172</th>\n",
              "      <td>999982</td>\n",
              "      <td>M</td>\n",
              "      <td>N</td>\n",
              "      <td>AUTO-JOB</td>\n",
              "      <td>N</td>\n",
              "      <td>SMART_OTP</td>\n",
              "      <td>26</td>\n",
              "    </tr>\n",
              "    <tr>\n",
              "      <th>79131</th>\n",
              "      <td>999996</td>\n",
              "      <td>M</td>\n",
              "      <td>N</td>\n",
              "      <td>BRANCH</td>\n",
              "      <td>Y</td>\n",
              "      <td>SMART_OTP</td>\n",
              "      <td>62</td>\n",
              "    </tr>\n",
              "    <tr>\n",
              "      <th>20771</th>\n",
              "      <td>999997</td>\n",
              "      <td>M</td>\n",
              "      <td>N</td>\n",
              "      <td>BRANCH</td>\n",
              "      <td>N</td>\n",
              "      <td>SMART_OTP</td>\n",
              "      <td>25</td>\n",
              "    </tr>\n",
              "  </tbody>\n",
              "</table>\n",
              "<p>134203 rows × 7 columns</p>\n",
              "</div>"
            ],
            "text/plain": [
              "        CUSTOMER_NUMBER CLIENT_SEX STAFF_VIB  ... SMS VERIFY_METHOD age\n",
              "56746                 0          F         N  ...   N     SMART_OTP  31\n",
              "74724                 3          M         N  ...   Y     SMART_OTP  32\n",
              "66835                 9          M         N  ...   Y     SMART_OTP  37\n",
              "147021               13          F         N  ...   N     SMART_OTP  26\n",
              "20737                14          F         N  ...   N     SMART_OTP  28\n",
              "...                 ...        ...       ...  ...  ..           ...  ..\n",
              "36578            999969          F         N  ...   Y     SMART_OTP  24\n",
              "57576            999972          M         N  ...   Y     SMART_OTP  28\n",
              "102172           999982          M         N  ...   N     SMART_OTP  26\n",
              "79131            999996          M         N  ...   Y     SMART_OTP  62\n",
              "20771            999997          M         N  ...   N     SMART_OTP  25\n",
              "\n",
              "[134203 rows x 7 columns]"
            ]
          },
          "metadata": {
            "tags": []
          },
          "execution_count": 206
        }
      ]
    },
    {
      "cell_type": "markdown",
      "metadata": {
        "id": "zaINblddgM7t"
      },
      "source": [
        "# data_my vib_transaction"
      ]
    },
    {
      "cell_type": "code",
      "metadata": {
        "id": "Kc1JMmYmeDio"
      },
      "source": [
        "data_transac = pd.read_csv('/content/gdrive/MyDrive/VIB DATA/2.Data_MyVIB_Transaction.csv')\n",
        "customer_trans = data_transac.groupby('CUSTOMER_NUMBER').agg({'TRANS_AMOUNT':'sum','TRANS_NO':'sum','TRANS_DATE':['max','min']})\n",
        "customer_trans = customer_trans.reset_index()\n",
        "\n",
        "customer_trans.columns = ['CUSTOMER_NUMBER','TOTAL_TRANS_AMOUNT','TRANS_NO','TRANS_DATEMAX','TRANS_DATEMIN']"
      ],
      "execution_count": null,
      "outputs": []
    },
    {
      "cell_type": "code",
      "metadata": {
        "colab": {
          "base_uri": "https://localhost:8080/",
          "height": 417
        },
        "id": "VufcSNoAYlpY",
        "outputId": "498b244d-7c6f-4367-ba69-36ebef2586e1"
      },
      "source": [
        "customer_trans"
      ],
      "execution_count": null,
      "outputs": [
        {
          "output_type": "execute_result",
          "data": {
            "text/html": [
              "<div>\n",
              "<style scoped>\n",
              "    .dataframe tbody tr th:only-of-type {\n",
              "        vertical-align: middle;\n",
              "    }\n",
              "\n",
              "    .dataframe tbody tr th {\n",
              "        vertical-align: top;\n",
              "    }\n",
              "\n",
              "    .dataframe thead th {\n",
              "        text-align: right;\n",
              "    }\n",
              "</style>\n",
              "<table border=\"1\" class=\"dataframe\">\n",
              "  <thead>\n",
              "    <tr style=\"text-align: right;\">\n",
              "      <th></th>\n",
              "      <th>CUSTOMER_NUMBER</th>\n",
              "      <th>TOTAL_TRANS_AMOUNT</th>\n",
              "      <th>TRANS_NO</th>\n",
              "      <th>TRANS_DATEMAX</th>\n",
              "      <th>TRANS_DATEMIN</th>\n",
              "    </tr>\n",
              "  </thead>\n",
              "  <tbody>\n",
              "    <tr>\n",
              "      <th>0</th>\n",
              "      <td>0</td>\n",
              "      <td>249819000.0</td>\n",
              "      <td>11</td>\n",
              "      <td>2019-12-29</td>\n",
              "      <td>2019-09-26</td>\n",
              "    </tr>\n",
              "    <tr>\n",
              "      <th>1</th>\n",
              "      <td>9</td>\n",
              "      <td>11694976.0</td>\n",
              "      <td>6</td>\n",
              "      <td>2019-12-28</td>\n",
              "      <td>2019-12-05</td>\n",
              "    </tr>\n",
              "    <tr>\n",
              "      <th>2</th>\n",
              "      <td>15</td>\n",
              "      <td>51400000.0</td>\n",
              "      <td>3</td>\n",
              "      <td>2019-12-22</td>\n",
              "      <td>2019-10-31</td>\n",
              "    </tr>\n",
              "    <tr>\n",
              "      <th>3</th>\n",
              "      <td>32</td>\n",
              "      <td>22550050.0</td>\n",
              "      <td>40</td>\n",
              "      <td>2019-12-26</td>\n",
              "      <td>2019-09-19</td>\n",
              "    </tr>\n",
              "    <tr>\n",
              "      <th>4</th>\n",
              "      <td>44</td>\n",
              "      <td>25000000.0</td>\n",
              "      <td>3</td>\n",
              "      <td>2019-12-12</td>\n",
              "      <td>2019-05-13</td>\n",
              "    </tr>\n",
              "    <tr>\n",
              "      <th>...</th>\n",
              "      <td>...</td>\n",
              "      <td>...</td>\n",
              "      <td>...</td>\n",
              "      <td>...</td>\n",
              "      <td>...</td>\n",
              "    </tr>\n",
              "    <tr>\n",
              "      <th>52483</th>\n",
              "      <td>999965</td>\n",
              "      <td>4978000.0</td>\n",
              "      <td>2</td>\n",
              "      <td>2019-11-16</td>\n",
              "      <td>2019-01-26</td>\n",
              "    </tr>\n",
              "    <tr>\n",
              "      <th>52484</th>\n",
              "      <td>999966</td>\n",
              "      <td>4050000.0</td>\n",
              "      <td>2</td>\n",
              "      <td>2019-09-26</td>\n",
              "      <td>2019-09-10</td>\n",
              "    </tr>\n",
              "    <tr>\n",
              "      <th>52485</th>\n",
              "      <td>999969</td>\n",
              "      <td>64672500.0</td>\n",
              "      <td>97</td>\n",
              "      <td>2019-12-31</td>\n",
              "      <td>2019-04-01</td>\n",
              "    </tr>\n",
              "    <tr>\n",
              "      <th>52486</th>\n",
              "      <td>999972</td>\n",
              "      <td>25220000.0</td>\n",
              "      <td>11</td>\n",
              "      <td>2019-12-20</td>\n",
              "      <td>2019-10-04</td>\n",
              "    </tr>\n",
              "    <tr>\n",
              "      <th>52487</th>\n",
              "      <td>999982</td>\n",
              "      <td>16325000.0</td>\n",
              "      <td>22</td>\n",
              "      <td>2019-12-25</td>\n",
              "      <td>2019-09-09</td>\n",
              "    </tr>\n",
              "  </tbody>\n",
              "</table>\n",
              "<p>52488 rows × 5 columns</p>\n",
              "</div>"
            ],
            "text/plain": [
              "       CUSTOMER_NUMBER  TOTAL_TRANS_AMOUNT  ...  TRANS_DATEMAX TRANS_DATEMIN\n",
              "0                    0         249819000.0  ...     2019-12-29    2019-09-26\n",
              "1                    9          11694976.0  ...     2019-12-28    2019-12-05\n",
              "2                   15          51400000.0  ...     2019-12-22    2019-10-31\n",
              "3                   32          22550050.0  ...     2019-12-26    2019-09-19\n",
              "4                   44          25000000.0  ...     2019-12-12    2019-05-13\n",
              "...                ...                 ...  ...            ...           ...\n",
              "52483           999965           4978000.0  ...     2019-11-16    2019-01-26\n",
              "52484           999966           4050000.0  ...     2019-09-26    2019-09-10\n",
              "52485           999969          64672500.0  ...     2019-12-31    2019-04-01\n",
              "52486           999972          25220000.0  ...     2019-12-20    2019-10-04\n",
              "52487           999982          16325000.0  ...     2019-12-25    2019-09-09\n",
              "\n",
              "[52488 rows x 5 columns]"
            ]
          },
          "metadata": {
            "tags": []
          },
          "execution_count": 208
        }
      ]
    },
    {
      "cell_type": "code",
      "metadata": {
        "id": "rpFf8TPaYluL"
      },
      "source": [
        ""
      ],
      "execution_count": null,
      "outputs": []
    },
    {
      "cell_type": "markdown",
      "metadata": {
        "id": "Rn_hUFwqevhb"
      },
      "source": [
        "# data my vib active"
      ]
    },
    {
      "cell_type": "code",
      "metadata": {
        "colab": {
          "base_uri": "https://localhost:8080/",
          "height": 447
        },
        "id": "y0les7VsevBb",
        "outputId": "7d9c84b3-28e2-4a5f-f15b-6b176fa41dcb"
      },
      "source": [
        "data_trans = pd.read_csv('/content/gdrive/MyDrive/VIB DATA/3.Data_MyVIB_Activity.csv')\n",
        "pd.set_option('display.max_rows',1000)\n",
        "data_trans['ACTIVITY_DATE'] = pd.to_datetime(data_trans['ACTIVITY_DATE'])\n",
        "active = data_trans.groupby('CUSTOMER_NUMBER').agg({'ACTIVITY_DATE':['max','min','nunique'],'ACTIVITY_HOUR':'mean'})\n",
        "active.columns = ['date_max','date_min','active_count','activehour_mean']\n",
        "active"
      ],
      "execution_count": null,
      "outputs": [
        {
          "output_type": "execute_result",
          "data": {
            "text/html": [
              "<div>\n",
              "<style scoped>\n",
              "    .dataframe tbody tr th:only-of-type {\n",
              "        vertical-align: middle;\n",
              "    }\n",
              "\n",
              "    .dataframe tbody tr th {\n",
              "        vertical-align: top;\n",
              "    }\n",
              "\n",
              "    .dataframe thead th {\n",
              "        text-align: right;\n",
              "    }\n",
              "</style>\n",
              "<table border=\"1\" class=\"dataframe\">\n",
              "  <thead>\n",
              "    <tr style=\"text-align: right;\">\n",
              "      <th></th>\n",
              "      <th>date_max</th>\n",
              "      <th>date_min</th>\n",
              "      <th>active_count</th>\n",
              "      <th>activehour_mean</th>\n",
              "    </tr>\n",
              "    <tr>\n",
              "      <th>CUSTOMER_NUMBER</th>\n",
              "      <th></th>\n",
              "      <th></th>\n",
              "      <th></th>\n",
              "      <th></th>\n",
              "    </tr>\n",
              "  </thead>\n",
              "  <tbody>\n",
              "    <tr>\n",
              "      <th>0</th>\n",
              "      <td>2019-12-29</td>\n",
              "      <td>2019-09-26</td>\n",
              "      <td>12</td>\n",
              "      <td>13.095238</td>\n",
              "    </tr>\n",
              "    <tr>\n",
              "      <th>3</th>\n",
              "      <td>2019-12-20</td>\n",
              "      <td>2019-06-05</td>\n",
              "      <td>14</td>\n",
              "      <td>15.478261</td>\n",
              "    </tr>\n",
              "    <tr>\n",
              "      <th>9</th>\n",
              "      <td>2019-12-28</td>\n",
              "      <td>2019-10-01</td>\n",
              "      <td>34</td>\n",
              "      <td>13.179894</td>\n",
              "    </tr>\n",
              "    <tr>\n",
              "      <th>13</th>\n",
              "      <td>2019-09-07</td>\n",
              "      <td>2019-09-06</td>\n",
              "      <td>2</td>\n",
              "      <td>17.307692</td>\n",
              "    </tr>\n",
              "    <tr>\n",
              "      <th>15</th>\n",
              "      <td>2019-12-31</td>\n",
              "      <td>2019-10-30</td>\n",
              "      <td>8</td>\n",
              "      <td>14.172414</td>\n",
              "    </tr>\n",
              "    <tr>\n",
              "      <th>...</th>\n",
              "      <td>...</td>\n",
              "      <td>...</td>\n",
              "      <td>...</td>\n",
              "      <td>...</td>\n",
              "    </tr>\n",
              "    <tr>\n",
              "      <th>999966</th>\n",
              "      <td>2019-12-12</td>\n",
              "      <td>2019-09-10</td>\n",
              "      <td>6</td>\n",
              "      <td>17.093750</td>\n",
              "    </tr>\n",
              "    <tr>\n",
              "      <th>999969</th>\n",
              "      <td>2019-12-31</td>\n",
              "      <td>2019-03-28</td>\n",
              "      <td>85</td>\n",
              "      <td>13.921053</td>\n",
              "    </tr>\n",
              "    <tr>\n",
              "      <th>999972</th>\n",
              "      <td>2019-12-30</td>\n",
              "      <td>2019-08-20</td>\n",
              "      <td>19</td>\n",
              "      <td>15.669173</td>\n",
              "    </tr>\n",
              "    <tr>\n",
              "      <th>999982</th>\n",
              "      <td>2019-12-26</td>\n",
              "      <td>2019-07-26</td>\n",
              "      <td>108</td>\n",
              "      <td>13.748099</td>\n",
              "    </tr>\n",
              "    <tr>\n",
              "      <th>999996</th>\n",
              "      <td>2019-12-31</td>\n",
              "      <td>2019-10-21</td>\n",
              "      <td>4</td>\n",
              "      <td>15.045455</td>\n",
              "    </tr>\n",
              "  </tbody>\n",
              "</table>\n",
              "<p>77741 rows × 4 columns</p>\n",
              "</div>"
            ],
            "text/plain": [
              "                  date_max   date_min  active_count  activehour_mean\n",
              "CUSTOMER_NUMBER                                                     \n",
              "0               2019-12-29 2019-09-26            12        13.095238\n",
              "3               2019-12-20 2019-06-05            14        15.478261\n",
              "9               2019-12-28 2019-10-01            34        13.179894\n",
              "13              2019-09-07 2019-09-06             2        17.307692\n",
              "15              2019-12-31 2019-10-30             8        14.172414\n",
              "...                    ...        ...           ...              ...\n",
              "999966          2019-12-12 2019-09-10             6        17.093750\n",
              "999969          2019-12-31 2019-03-28            85        13.921053\n",
              "999972          2019-12-30 2019-08-20            19        15.669173\n",
              "999982          2019-12-26 2019-07-26           108        13.748099\n",
              "999996          2019-12-31 2019-10-21             4        15.045455\n",
              "\n",
              "[77741 rows x 4 columns]"
            ]
          },
          "metadata": {
            "tags": []
          },
          "execution_count": 209
        }
      ]
    },
    {
      "cell_type": "markdown",
      "metadata": {
        "id": "3yuhNQPzxJnR"
      },
      "source": [
        "## Merge dữ liệu customer, vib active and vib transaction. \n"
      ]
    },
    {
      "cell_type": "code",
      "metadata": {
        "colab": {
          "base_uri": "https://localhost:8080/",
          "height": 739
        },
        "id": "Vfyvvup5QHTx",
        "outputId": "976e9b57-d16f-4d1b-9be7-f496070f5d71"
      },
      "source": [
        "from functools import reduce\n",
        "data_frames = [data_customerfn,customer_trans,active]\n",
        "df1 = reduce(lambda  left,right: pd.merge(left,right,on=['CUSTOMER_NUMBER'],\n",
        "                                            how='outer'), data_frames)\n",
        "df1\n",
        "pd.set_option('display.max_rows',1000)\n",
        "df1 = df1.fillna('a')\n",
        "df1"
      ],
      "execution_count": null,
      "outputs": [
        {
          "output_type": "execute_result",
          "data": {
            "text/html": [
              "<div>\n",
              "<style scoped>\n",
              "    .dataframe tbody tr th:only-of-type {\n",
              "        vertical-align: middle;\n",
              "    }\n",
              "\n",
              "    .dataframe tbody tr th {\n",
              "        vertical-align: top;\n",
              "    }\n",
              "\n",
              "    .dataframe thead th {\n",
              "        text-align: right;\n",
              "    }\n",
              "</style>\n",
              "<table border=\"1\" class=\"dataframe\">\n",
              "  <thead>\n",
              "    <tr style=\"text-align: right;\">\n",
              "      <th></th>\n",
              "      <th>CUSTOMER_NUMBER</th>\n",
              "      <th>CLIENT_SEX</th>\n",
              "      <th>STAFF_VIB</th>\n",
              "      <th>EB_REGISTER_CHANNEL</th>\n",
              "      <th>SMS</th>\n",
              "      <th>VERIFY_METHOD</th>\n",
              "      <th>age</th>\n",
              "      <th>TOTAL_TRANS_AMOUNT</th>\n",
              "      <th>TRANS_NO</th>\n",
              "      <th>TRANS_DATEMAX</th>\n",
              "      <th>TRANS_DATEMIN</th>\n",
              "      <th>date_max</th>\n",
              "      <th>date_min</th>\n",
              "      <th>active_count</th>\n",
              "      <th>activehour_mean</th>\n",
              "    </tr>\n",
              "  </thead>\n",
              "  <tbody>\n",
              "    <tr>\n",
              "      <th>0</th>\n",
              "      <td>0</td>\n",
              "      <td>F</td>\n",
              "      <td>N</td>\n",
              "      <td>BRANCH</td>\n",
              "      <td>N</td>\n",
              "      <td>SMART_OTP</td>\n",
              "      <td>31</td>\n",
              "      <td>2.49819e+08</td>\n",
              "      <td>11</td>\n",
              "      <td>2019-12-29</td>\n",
              "      <td>2019-09-26</td>\n",
              "      <td>2019-12-29 00:00:00</td>\n",
              "      <td>2019-09-26 00:00:00</td>\n",
              "      <td>12</td>\n",
              "      <td>13.0952</td>\n",
              "    </tr>\n",
              "    <tr>\n",
              "      <th>1</th>\n",
              "      <td>3</td>\n",
              "      <td>M</td>\n",
              "      <td>N</td>\n",
              "      <td>MYVIB</td>\n",
              "      <td>Y</td>\n",
              "      <td>SMART_OTP</td>\n",
              "      <td>32</td>\n",
              "      <td>a</td>\n",
              "      <td>a</td>\n",
              "      <td>a</td>\n",
              "      <td>a</td>\n",
              "      <td>2019-12-20 00:00:00</td>\n",
              "      <td>2019-06-05 00:00:00</td>\n",
              "      <td>14</td>\n",
              "      <td>15.4783</td>\n",
              "    </tr>\n",
              "    <tr>\n",
              "      <th>2</th>\n",
              "      <td>9</td>\n",
              "      <td>M</td>\n",
              "      <td>N</td>\n",
              "      <td>BRANCH</td>\n",
              "      <td>Y</td>\n",
              "      <td>SMART_OTP</td>\n",
              "      <td>37</td>\n",
              "      <td>1.1695e+07</td>\n",
              "      <td>6</td>\n",
              "      <td>2019-12-28</td>\n",
              "      <td>2019-12-05</td>\n",
              "      <td>2019-12-28 00:00:00</td>\n",
              "      <td>2019-10-01 00:00:00</td>\n",
              "      <td>34</td>\n",
              "      <td>13.1799</td>\n",
              "    </tr>\n",
              "    <tr>\n",
              "      <th>3</th>\n",
              "      <td>13</td>\n",
              "      <td>F</td>\n",
              "      <td>N</td>\n",
              "      <td>BRANCH</td>\n",
              "      <td>N</td>\n",
              "      <td>SMART_OTP</td>\n",
              "      <td>26</td>\n",
              "      <td>a</td>\n",
              "      <td>a</td>\n",
              "      <td>a</td>\n",
              "      <td>a</td>\n",
              "      <td>2019-09-07 00:00:00</td>\n",
              "      <td>2019-09-06 00:00:00</td>\n",
              "      <td>2</td>\n",
              "      <td>17.3077</td>\n",
              "    </tr>\n",
              "    <tr>\n",
              "      <th>4</th>\n",
              "      <td>14</td>\n",
              "      <td>F</td>\n",
              "      <td>N</td>\n",
              "      <td>AUTO-JOB</td>\n",
              "      <td>N</td>\n",
              "      <td>SMART_OTP</td>\n",
              "      <td>28</td>\n",
              "      <td>a</td>\n",
              "      <td>a</td>\n",
              "      <td>a</td>\n",
              "      <td>a</td>\n",
              "      <td>a</td>\n",
              "      <td>a</td>\n",
              "      <td>a</td>\n",
              "      <td>a</td>\n",
              "    </tr>\n",
              "    <tr>\n",
              "      <th>...</th>\n",
              "      <td>...</td>\n",
              "      <td>...</td>\n",
              "      <td>...</td>\n",
              "      <td>...</td>\n",
              "      <td>...</td>\n",
              "      <td>...</td>\n",
              "      <td>...</td>\n",
              "      <td>...</td>\n",
              "      <td>...</td>\n",
              "      <td>...</td>\n",
              "      <td>...</td>\n",
              "      <td>...</td>\n",
              "      <td>...</td>\n",
              "      <td>...</td>\n",
              "      <td>...</td>\n",
              "    </tr>\n",
              "    <tr>\n",
              "      <th>134510</th>\n",
              "      <td>985119</td>\n",
              "      <td>a</td>\n",
              "      <td>a</td>\n",
              "      <td>a</td>\n",
              "      <td>a</td>\n",
              "      <td>a</td>\n",
              "      <td>a</td>\n",
              "      <td>a</td>\n",
              "      <td>a</td>\n",
              "      <td>a</td>\n",
              "      <td>a</td>\n",
              "      <td>2019-09-16 00:00:00</td>\n",
              "      <td>2019-05-04 00:00:00</td>\n",
              "      <td>2</td>\n",
              "      <td>14</td>\n",
              "    </tr>\n",
              "    <tr>\n",
              "      <th>134511</th>\n",
              "      <td>990321</td>\n",
              "      <td>a</td>\n",
              "      <td>a</td>\n",
              "      <td>a</td>\n",
              "      <td>a</td>\n",
              "      <td>a</td>\n",
              "      <td>a</td>\n",
              "      <td>a</td>\n",
              "      <td>a</td>\n",
              "      <td>a</td>\n",
              "      <td>a</td>\n",
              "      <td>2019-08-31 00:00:00</td>\n",
              "      <td>2019-08-31 00:00:00</td>\n",
              "      <td>1</td>\n",
              "      <td>18</td>\n",
              "    </tr>\n",
              "    <tr>\n",
              "      <th>134512</th>\n",
              "      <td>990745</td>\n",
              "      <td>a</td>\n",
              "      <td>a</td>\n",
              "      <td>a</td>\n",
              "      <td>a</td>\n",
              "      <td>a</td>\n",
              "      <td>a</td>\n",
              "      <td>a</td>\n",
              "      <td>a</td>\n",
              "      <td>a</td>\n",
              "      <td>a</td>\n",
              "      <td>2019-11-16 00:00:00</td>\n",
              "      <td>2019-11-16 00:00:00</td>\n",
              "      <td>1</td>\n",
              "      <td>10</td>\n",
              "    </tr>\n",
              "    <tr>\n",
              "      <th>134513</th>\n",
              "      <td>997954</td>\n",
              "      <td>a</td>\n",
              "      <td>a</td>\n",
              "      <td>a</td>\n",
              "      <td>a</td>\n",
              "      <td>a</td>\n",
              "      <td>a</td>\n",
              "      <td>a</td>\n",
              "      <td>a</td>\n",
              "      <td>a</td>\n",
              "      <td>a</td>\n",
              "      <td>2019-12-11 00:00:00</td>\n",
              "      <td>2019-12-11 00:00:00</td>\n",
              "      <td>1</td>\n",
              "      <td>18</td>\n",
              "    </tr>\n",
              "    <tr>\n",
              "      <th>134514</th>\n",
              "      <td>998764</td>\n",
              "      <td>a</td>\n",
              "      <td>a</td>\n",
              "      <td>a</td>\n",
              "      <td>a</td>\n",
              "      <td>a</td>\n",
              "      <td>a</td>\n",
              "      <td>a</td>\n",
              "      <td>a</td>\n",
              "      <td>a</td>\n",
              "      <td>a</td>\n",
              "      <td>2019-03-24 00:00:00</td>\n",
              "      <td>2019-03-24 00:00:00</td>\n",
              "      <td>1</td>\n",
              "      <td>12</td>\n",
              "    </tr>\n",
              "  </tbody>\n",
              "</table>\n",
              "<p>134515 rows × 15 columns</p>\n",
              "</div>"
            ],
            "text/plain": [
              "        CUSTOMER_NUMBER CLIENT_SEX  ... active_count activehour_mean\n",
              "0                     0          F  ...           12         13.0952\n",
              "1                     3          M  ...           14         15.4783\n",
              "2                     9          M  ...           34         13.1799\n",
              "3                    13          F  ...            2         17.3077\n",
              "4                    14          F  ...            a               a\n",
              "...                 ...        ...  ...          ...             ...\n",
              "134510           985119          a  ...            2              14\n",
              "134511           990321          a  ...            1              18\n",
              "134512           990745          a  ...            1              10\n",
              "134513           997954          a  ...            1              18\n",
              "134514           998764          a  ...            1              12\n",
              "\n",
              "[134515 rows x 15 columns]"
            ]
          },
          "metadata": {
            "tags": []
          },
          "execution_count": 210
        }
      ]
    },
    {
      "cell_type": "code",
      "metadata": {
        "colab": {
          "base_uri": "https://localhost:8080/",
          "height": 320
        },
        "id": "STBVsawxyL4n",
        "outputId": "769bbce1-44cf-4011-9be4-c1cdd8efc909"
      },
      "source": [
        "df2 = df1\n",
        "df2.drop('left3',axis = 1,inplace=True)"
      ],
      "execution_count": null,
      "outputs": [
        {
          "output_type": "error",
          "ename": "KeyError",
          "evalue": "ignored",
          "traceback": [
            "\u001b[0;31m---------------------------------------------------------------------------\u001b[0m",
            "\u001b[0;31mKeyError\u001b[0m                                  Traceback (most recent call last)",
            "\u001b[0;32m<ipython-input-255-3a5447cd06ce>\u001b[0m in \u001b[0;36m<module>\u001b[0;34m()\u001b[0m\n\u001b[1;32m      1\u001b[0m \u001b[0mdf2\u001b[0m \u001b[0;34m=\u001b[0m \u001b[0mdf1\u001b[0m\u001b[0;34m\u001b[0m\u001b[0;34m\u001b[0m\u001b[0m\n\u001b[0;32m----> 2\u001b[0;31m \u001b[0mdf2\u001b[0m\u001b[0;34m.\u001b[0m\u001b[0mdrop\u001b[0m\u001b[0;34m(\u001b[0m\u001b[0;34m'left3'\u001b[0m\u001b[0;34m,\u001b[0m\u001b[0maxis\u001b[0m \u001b[0;34m=\u001b[0m \u001b[0;36m1\u001b[0m\u001b[0;34m,\u001b[0m\u001b[0minplace\u001b[0m\u001b[0;34m=\u001b[0m\u001b[0;32mTrue\u001b[0m\u001b[0;34m)\u001b[0m\u001b[0;34m\u001b[0m\u001b[0;34m\u001b[0m\u001b[0m\n\u001b[0m",
            "\u001b[0;32m/usr/local/lib/python3.7/dist-packages/pandas/core/frame.py\u001b[0m in \u001b[0;36mdrop\u001b[0;34m(self, labels, axis, index, columns, level, inplace, errors)\u001b[0m\n\u001b[1;32m   4172\u001b[0m             \u001b[0mlevel\u001b[0m\u001b[0;34m=\u001b[0m\u001b[0mlevel\u001b[0m\u001b[0;34m,\u001b[0m\u001b[0;34m\u001b[0m\u001b[0;34m\u001b[0m\u001b[0m\n\u001b[1;32m   4173\u001b[0m             \u001b[0minplace\u001b[0m\u001b[0;34m=\u001b[0m\u001b[0minplace\u001b[0m\u001b[0;34m,\u001b[0m\u001b[0;34m\u001b[0m\u001b[0;34m\u001b[0m\u001b[0m\n\u001b[0;32m-> 4174\u001b[0;31m             \u001b[0merrors\u001b[0m\u001b[0;34m=\u001b[0m\u001b[0merrors\u001b[0m\u001b[0;34m,\u001b[0m\u001b[0;34m\u001b[0m\u001b[0;34m\u001b[0m\u001b[0m\n\u001b[0m\u001b[1;32m   4175\u001b[0m         )\n\u001b[1;32m   4176\u001b[0m \u001b[0;34m\u001b[0m\u001b[0m\n",
            "\u001b[0;32m/usr/local/lib/python3.7/dist-packages/pandas/core/generic.py\u001b[0m in \u001b[0;36mdrop\u001b[0;34m(self, labels, axis, index, columns, level, inplace, errors)\u001b[0m\n\u001b[1;32m   3887\u001b[0m         \u001b[0;32mfor\u001b[0m \u001b[0maxis\u001b[0m\u001b[0;34m,\u001b[0m \u001b[0mlabels\u001b[0m \u001b[0;32min\u001b[0m \u001b[0maxes\u001b[0m\u001b[0;34m.\u001b[0m\u001b[0mitems\u001b[0m\u001b[0;34m(\u001b[0m\u001b[0;34m)\u001b[0m\u001b[0;34m:\u001b[0m\u001b[0;34m\u001b[0m\u001b[0;34m\u001b[0m\u001b[0m\n\u001b[1;32m   3888\u001b[0m             \u001b[0;32mif\u001b[0m \u001b[0mlabels\u001b[0m \u001b[0;32mis\u001b[0m \u001b[0;32mnot\u001b[0m \u001b[0;32mNone\u001b[0m\u001b[0;34m:\u001b[0m\u001b[0;34m\u001b[0m\u001b[0;34m\u001b[0m\u001b[0m\n\u001b[0;32m-> 3889\u001b[0;31m                 \u001b[0mobj\u001b[0m \u001b[0;34m=\u001b[0m \u001b[0mobj\u001b[0m\u001b[0;34m.\u001b[0m\u001b[0m_drop_axis\u001b[0m\u001b[0;34m(\u001b[0m\u001b[0mlabels\u001b[0m\u001b[0;34m,\u001b[0m \u001b[0maxis\u001b[0m\u001b[0;34m,\u001b[0m \u001b[0mlevel\u001b[0m\u001b[0;34m=\u001b[0m\u001b[0mlevel\u001b[0m\u001b[0;34m,\u001b[0m \u001b[0merrors\u001b[0m\u001b[0;34m=\u001b[0m\u001b[0merrors\u001b[0m\u001b[0;34m)\u001b[0m\u001b[0;34m\u001b[0m\u001b[0;34m\u001b[0m\u001b[0m\n\u001b[0m\u001b[1;32m   3890\u001b[0m \u001b[0;34m\u001b[0m\u001b[0m\n\u001b[1;32m   3891\u001b[0m         \u001b[0;32mif\u001b[0m \u001b[0minplace\u001b[0m\u001b[0;34m:\u001b[0m\u001b[0;34m\u001b[0m\u001b[0;34m\u001b[0m\u001b[0m\n",
            "\u001b[0;32m/usr/local/lib/python3.7/dist-packages/pandas/core/generic.py\u001b[0m in \u001b[0;36m_drop_axis\u001b[0;34m(self, labels, axis, level, errors)\u001b[0m\n\u001b[1;32m   3921\u001b[0m                 \u001b[0mnew_axis\u001b[0m \u001b[0;34m=\u001b[0m \u001b[0maxis\u001b[0m\u001b[0;34m.\u001b[0m\u001b[0mdrop\u001b[0m\u001b[0;34m(\u001b[0m\u001b[0mlabels\u001b[0m\u001b[0;34m,\u001b[0m \u001b[0mlevel\u001b[0m\u001b[0;34m=\u001b[0m\u001b[0mlevel\u001b[0m\u001b[0;34m,\u001b[0m \u001b[0merrors\u001b[0m\u001b[0;34m=\u001b[0m\u001b[0merrors\u001b[0m\u001b[0;34m)\u001b[0m\u001b[0;34m\u001b[0m\u001b[0;34m\u001b[0m\u001b[0m\n\u001b[1;32m   3922\u001b[0m             \u001b[0;32melse\u001b[0m\u001b[0;34m:\u001b[0m\u001b[0;34m\u001b[0m\u001b[0;34m\u001b[0m\u001b[0m\n\u001b[0;32m-> 3923\u001b[0;31m                 \u001b[0mnew_axis\u001b[0m \u001b[0;34m=\u001b[0m \u001b[0maxis\u001b[0m\u001b[0;34m.\u001b[0m\u001b[0mdrop\u001b[0m\u001b[0;34m(\u001b[0m\u001b[0mlabels\u001b[0m\u001b[0;34m,\u001b[0m \u001b[0merrors\u001b[0m\u001b[0;34m=\u001b[0m\u001b[0merrors\u001b[0m\u001b[0;34m)\u001b[0m\u001b[0;34m\u001b[0m\u001b[0;34m\u001b[0m\u001b[0m\n\u001b[0m\u001b[1;32m   3924\u001b[0m             \u001b[0mresult\u001b[0m \u001b[0;34m=\u001b[0m \u001b[0mself\u001b[0m\u001b[0;34m.\u001b[0m\u001b[0mreindex\u001b[0m\u001b[0;34m(\u001b[0m\u001b[0;34m**\u001b[0m\u001b[0;34m{\u001b[0m\u001b[0maxis_name\u001b[0m\u001b[0;34m:\u001b[0m \u001b[0mnew_axis\u001b[0m\u001b[0;34m}\u001b[0m\u001b[0;34m)\u001b[0m\u001b[0;34m\u001b[0m\u001b[0;34m\u001b[0m\u001b[0m\n\u001b[1;32m   3925\u001b[0m \u001b[0;34m\u001b[0m\u001b[0m\n",
            "\u001b[0;32m/usr/local/lib/python3.7/dist-packages/pandas/core/indexes/base.py\u001b[0m in \u001b[0;36mdrop\u001b[0;34m(self, labels, errors)\u001b[0m\n\u001b[1;32m   5285\u001b[0m         \u001b[0;32mif\u001b[0m \u001b[0mmask\u001b[0m\u001b[0;34m.\u001b[0m\u001b[0many\u001b[0m\u001b[0;34m(\u001b[0m\u001b[0;34m)\u001b[0m\u001b[0;34m:\u001b[0m\u001b[0;34m\u001b[0m\u001b[0;34m\u001b[0m\u001b[0m\n\u001b[1;32m   5286\u001b[0m             \u001b[0;32mif\u001b[0m \u001b[0merrors\u001b[0m \u001b[0;34m!=\u001b[0m \u001b[0;34m\"ignore\"\u001b[0m\u001b[0;34m:\u001b[0m\u001b[0;34m\u001b[0m\u001b[0;34m\u001b[0m\u001b[0m\n\u001b[0;32m-> 5287\u001b[0;31m                 \u001b[0;32mraise\u001b[0m \u001b[0mKeyError\u001b[0m\u001b[0;34m(\u001b[0m\u001b[0;34mf\"{labels[mask]} not found in axis\"\u001b[0m\u001b[0;34m)\u001b[0m\u001b[0;34m\u001b[0m\u001b[0;34m\u001b[0m\u001b[0m\n\u001b[0m\u001b[1;32m   5288\u001b[0m             \u001b[0mindexer\u001b[0m \u001b[0;34m=\u001b[0m \u001b[0mindexer\u001b[0m\u001b[0;34m[\u001b[0m\u001b[0;34m~\u001b[0m\u001b[0mmask\u001b[0m\u001b[0;34m]\u001b[0m\u001b[0;34m\u001b[0m\u001b[0;34m\u001b[0m\u001b[0m\n\u001b[1;32m   5289\u001b[0m         \u001b[0;32mreturn\u001b[0m \u001b[0mself\u001b[0m\u001b[0;34m.\u001b[0m\u001b[0mdelete\u001b[0m\u001b[0;34m(\u001b[0m\u001b[0mindexer\u001b[0m\u001b[0;34m)\u001b[0m\u001b[0;34m\u001b[0m\u001b[0;34m\u001b[0m\u001b[0m\n",
            "\u001b[0;31mKeyError\u001b[0m: \"['left3'] not found in axis\""
          ]
        }
      ]
    },
    {
      "cell_type": "code",
      "metadata": {
        "colab": {
          "base_uri": "https://localhost:8080/",
          "height": 522
        },
        "id": "VbrS-BX2zHTL",
        "outputId": "712539fd-7459-4543-b380-a44318cfe962"
      },
      "source": [
        "df2.replace('a',0,inplace=True)\n",
        "df2['date_max'] = pd.to_datetime(df2['date_max'])\n",
        "df2['next_buyac'] = df2['date_max'] + datetime.timedelta(days = 90)"
      ],
      "execution_count": null,
      "outputs": [
        {
          "output_type": "error",
          "ename": "ValueError",
          "evalue": "ignored",
          "traceback": [
            "\u001b[0;31m---------------------------------------------------------------------------\u001b[0m",
            "\u001b[0;31mTypeError\u001b[0m                                 Traceback (most recent call last)",
            "\u001b[0;32m/usr/local/lib/python3.7/dist-packages/pandas/core/arrays/datetimes.py\u001b[0m in \u001b[0;36mobjects_to_datetime64ns\u001b[0;34m(data, dayfirst, yearfirst, utc, errors, require_iso8601, allow_object)\u001b[0m\n\u001b[1;32m   2058\u001b[0m         \u001b[0;32mtry\u001b[0m\u001b[0;34m:\u001b[0m\u001b[0;34m\u001b[0m\u001b[0;34m\u001b[0m\u001b[0m\n\u001b[0;32m-> 2059\u001b[0;31m             \u001b[0mvalues\u001b[0m\u001b[0;34m,\u001b[0m \u001b[0mtz_parsed\u001b[0m \u001b[0;34m=\u001b[0m \u001b[0mconversion\u001b[0m\u001b[0;34m.\u001b[0m\u001b[0mdatetime_to_datetime64\u001b[0m\u001b[0;34m(\u001b[0m\u001b[0mdata\u001b[0m\u001b[0;34m)\u001b[0m\u001b[0;34m\u001b[0m\u001b[0;34m\u001b[0m\u001b[0m\n\u001b[0m\u001b[1;32m   2060\u001b[0m             \u001b[0;31m# If tzaware, these values represent unix timestamps, so we\u001b[0m\u001b[0;34m\u001b[0m\u001b[0;34m\u001b[0m\u001b[0;34m\u001b[0m\u001b[0m\n",
            "\u001b[0;32mpandas/_libs/tslibs/conversion.pyx\u001b[0m in \u001b[0;36mpandas._libs.tslibs.conversion.datetime_to_datetime64\u001b[0;34m()\u001b[0m\n",
            "\u001b[0;31mTypeError\u001b[0m: Unrecognized value type: <class 'int'>",
            "\nDuring handling of the above exception, another exception occurred:\n",
            "\u001b[0;31mValueError\u001b[0m                                Traceback (most recent call last)",
            "\u001b[0;32m<ipython-input-260-bde8f7be8116>\u001b[0m in \u001b[0;36m<module>\u001b[0;34m()\u001b[0m\n\u001b[1;32m      1\u001b[0m \u001b[0mdf2\u001b[0m\u001b[0;34m.\u001b[0m\u001b[0mreplace\u001b[0m\u001b[0;34m(\u001b[0m\u001b[0;34m'a'\u001b[0m\u001b[0;34m,\u001b[0m\u001b[0;36m0\u001b[0m\u001b[0;34m,\u001b[0m\u001b[0minplace\u001b[0m\u001b[0;34m=\u001b[0m\u001b[0;32mTrue\u001b[0m\u001b[0;34m)\u001b[0m\u001b[0;34m\u001b[0m\u001b[0;34m\u001b[0m\u001b[0m\n\u001b[0;32m----> 2\u001b[0;31m \u001b[0mdf2\u001b[0m\u001b[0;34m[\u001b[0m\u001b[0;34m'date_max'\u001b[0m\u001b[0;34m]\u001b[0m \u001b[0;34m=\u001b[0m \u001b[0mpd\u001b[0m\u001b[0;34m.\u001b[0m\u001b[0mto_datetime\u001b[0m\u001b[0;34m(\u001b[0m\u001b[0mdf2\u001b[0m\u001b[0;34m[\u001b[0m\u001b[0;34m'date_max'\u001b[0m\u001b[0;34m]\u001b[0m\u001b[0;34m)\u001b[0m\u001b[0;34m\u001b[0m\u001b[0;34m\u001b[0m\u001b[0m\n\u001b[0m\u001b[1;32m      3\u001b[0m \u001b[0mdf2\u001b[0m\u001b[0;34m[\u001b[0m\u001b[0;34m'next_buyac'\u001b[0m\u001b[0;34m]\u001b[0m \u001b[0;34m=\u001b[0m \u001b[0mdf2\u001b[0m\u001b[0;34m[\u001b[0m\u001b[0;34m'date_max'\u001b[0m\u001b[0;34m]\u001b[0m \u001b[0;34m+\u001b[0m \u001b[0mdatetime\u001b[0m\u001b[0;34m.\u001b[0m\u001b[0mtimedelta\u001b[0m\u001b[0;34m(\u001b[0m\u001b[0mdays\u001b[0m \u001b[0;34m=\u001b[0m \u001b[0;36m90\u001b[0m\u001b[0;34m)\u001b[0m\u001b[0;34m\u001b[0m\u001b[0;34m\u001b[0m\u001b[0m\n",
            "\u001b[0;32m/usr/local/lib/python3.7/dist-packages/pandas/core/tools/datetimes.py\u001b[0m in \u001b[0;36mto_datetime\u001b[0;34m(arg, errors, dayfirst, yearfirst, utc, format, exact, unit, infer_datetime_format, origin, cache)\u001b[0m\n\u001b[1;32m    797\u001b[0m                 \u001b[0mresult\u001b[0m \u001b[0;34m=\u001b[0m \u001b[0mresult\u001b[0m\u001b[0;34m.\u001b[0m\u001b[0mtz_localize\u001b[0m\u001b[0;34m(\u001b[0m\u001b[0mtz\u001b[0m\u001b[0;34m)\u001b[0m\u001b[0;34m\u001b[0m\u001b[0;34m\u001b[0m\u001b[0m\n\u001b[1;32m    798\u001b[0m     \u001b[0;32melif\u001b[0m \u001b[0misinstance\u001b[0m\u001b[0;34m(\u001b[0m\u001b[0marg\u001b[0m\u001b[0;34m,\u001b[0m \u001b[0mABCSeries\u001b[0m\u001b[0;34m)\u001b[0m\u001b[0;34m:\u001b[0m\u001b[0;34m\u001b[0m\u001b[0;34m\u001b[0m\u001b[0m\n\u001b[0;32m--> 799\u001b[0;31m         \u001b[0mcache_array\u001b[0m \u001b[0;34m=\u001b[0m \u001b[0m_maybe_cache\u001b[0m\u001b[0;34m(\u001b[0m\u001b[0marg\u001b[0m\u001b[0;34m,\u001b[0m \u001b[0mformat\u001b[0m\u001b[0;34m,\u001b[0m \u001b[0mcache\u001b[0m\u001b[0;34m,\u001b[0m \u001b[0mconvert_listlike\u001b[0m\u001b[0;34m)\u001b[0m\u001b[0;34m\u001b[0m\u001b[0;34m\u001b[0m\u001b[0m\n\u001b[0m\u001b[1;32m    800\u001b[0m         \u001b[0;32mif\u001b[0m \u001b[0;32mnot\u001b[0m \u001b[0mcache_array\u001b[0m\u001b[0;34m.\u001b[0m\u001b[0mempty\u001b[0m\u001b[0;34m:\u001b[0m\u001b[0;34m\u001b[0m\u001b[0;34m\u001b[0m\u001b[0m\n\u001b[1;32m    801\u001b[0m             \u001b[0mresult\u001b[0m \u001b[0;34m=\u001b[0m \u001b[0marg\u001b[0m\u001b[0;34m.\u001b[0m\u001b[0mmap\u001b[0m\u001b[0;34m(\u001b[0m\u001b[0mcache_array\u001b[0m\u001b[0;34m)\u001b[0m\u001b[0;34m\u001b[0m\u001b[0;34m\u001b[0m\u001b[0m\n",
            "\u001b[0;32m/usr/local/lib/python3.7/dist-packages/pandas/core/tools/datetimes.py\u001b[0m in \u001b[0;36m_maybe_cache\u001b[0;34m(arg, format, cache, convert_listlike)\u001b[0m\n\u001b[1;32m    168\u001b[0m         \u001b[0munique_dates\u001b[0m \u001b[0;34m=\u001b[0m \u001b[0munique\u001b[0m\u001b[0;34m(\u001b[0m\u001b[0marg\u001b[0m\u001b[0;34m)\u001b[0m\u001b[0;34m\u001b[0m\u001b[0;34m\u001b[0m\u001b[0m\n\u001b[1;32m    169\u001b[0m         \u001b[0;32mif\u001b[0m \u001b[0mlen\u001b[0m\u001b[0;34m(\u001b[0m\u001b[0munique_dates\u001b[0m\u001b[0;34m)\u001b[0m \u001b[0;34m<\u001b[0m \u001b[0mlen\u001b[0m\u001b[0;34m(\u001b[0m\u001b[0marg\u001b[0m\u001b[0;34m)\u001b[0m\u001b[0;34m:\u001b[0m\u001b[0;34m\u001b[0m\u001b[0;34m\u001b[0m\u001b[0m\n\u001b[0;32m--> 170\u001b[0;31m             \u001b[0mcache_dates\u001b[0m \u001b[0;34m=\u001b[0m \u001b[0mconvert_listlike\u001b[0m\u001b[0;34m(\u001b[0m\u001b[0munique_dates\u001b[0m\u001b[0;34m,\u001b[0m \u001b[0mformat\u001b[0m\u001b[0;34m)\u001b[0m\u001b[0;34m\u001b[0m\u001b[0;34m\u001b[0m\u001b[0m\n\u001b[0m\u001b[1;32m    171\u001b[0m             \u001b[0mcache_array\u001b[0m \u001b[0;34m=\u001b[0m \u001b[0mSeries\u001b[0m\u001b[0;34m(\u001b[0m\u001b[0mcache_dates\u001b[0m\u001b[0;34m,\u001b[0m \u001b[0mindex\u001b[0m\u001b[0;34m=\u001b[0m\u001b[0munique_dates\u001b[0m\u001b[0;34m)\u001b[0m\u001b[0;34m\u001b[0m\u001b[0;34m\u001b[0m\u001b[0m\n\u001b[1;32m    172\u001b[0m     \u001b[0;32mreturn\u001b[0m \u001b[0mcache_array\u001b[0m\u001b[0;34m\u001b[0m\u001b[0;34m\u001b[0m\u001b[0m\n",
            "\u001b[0;32m/usr/local/lib/python3.7/dist-packages/pandas/core/tools/datetimes.py\u001b[0m in \u001b[0;36m_convert_listlike_datetimes\u001b[0;34m(arg, format, name, tz, unit, errors, infer_datetime_format, dayfirst, yearfirst, exact)\u001b[0m\n\u001b[1;32m    464\u001b[0m             \u001b[0merrors\u001b[0m\u001b[0;34m=\u001b[0m\u001b[0merrors\u001b[0m\u001b[0;34m,\u001b[0m\u001b[0;34m\u001b[0m\u001b[0;34m\u001b[0m\u001b[0m\n\u001b[1;32m    465\u001b[0m             \u001b[0mrequire_iso8601\u001b[0m\u001b[0;34m=\u001b[0m\u001b[0mrequire_iso8601\u001b[0m\u001b[0;34m,\u001b[0m\u001b[0;34m\u001b[0m\u001b[0;34m\u001b[0m\u001b[0m\n\u001b[0;32m--> 466\u001b[0;31m             \u001b[0mallow_object\u001b[0m\u001b[0;34m=\u001b[0m\u001b[0;32mTrue\u001b[0m\u001b[0;34m,\u001b[0m\u001b[0;34m\u001b[0m\u001b[0;34m\u001b[0m\u001b[0m\n\u001b[0m\u001b[1;32m    467\u001b[0m         )\n\u001b[1;32m    468\u001b[0m \u001b[0;34m\u001b[0m\u001b[0m\n",
            "\u001b[0;32m/usr/local/lib/python3.7/dist-packages/pandas/core/arrays/datetimes.py\u001b[0m in \u001b[0;36mobjects_to_datetime64ns\u001b[0;34m(data, dayfirst, yearfirst, utc, errors, require_iso8601, allow_object)\u001b[0m\n\u001b[1;32m   2062\u001b[0m             \u001b[0;32mreturn\u001b[0m \u001b[0mvalues\u001b[0m\u001b[0;34m.\u001b[0m\u001b[0mview\u001b[0m\u001b[0;34m(\u001b[0m\u001b[0;34m\"i8\"\u001b[0m\u001b[0;34m)\u001b[0m\u001b[0;34m,\u001b[0m \u001b[0mtz_parsed\u001b[0m\u001b[0;34m\u001b[0m\u001b[0;34m\u001b[0m\u001b[0m\n\u001b[1;32m   2063\u001b[0m         \u001b[0;32mexcept\u001b[0m \u001b[0;34m(\u001b[0m\u001b[0mValueError\u001b[0m\u001b[0;34m,\u001b[0m \u001b[0mTypeError\u001b[0m\u001b[0;34m)\u001b[0m\u001b[0;34m:\u001b[0m\u001b[0;34m\u001b[0m\u001b[0;34m\u001b[0m\u001b[0m\n\u001b[0;32m-> 2064\u001b[0;31m             \u001b[0;32mraise\u001b[0m \u001b[0me\u001b[0m\u001b[0;34m\u001b[0m\u001b[0;34m\u001b[0m\u001b[0m\n\u001b[0m\u001b[1;32m   2065\u001b[0m \u001b[0;34m\u001b[0m\u001b[0m\n\u001b[1;32m   2066\u001b[0m     \u001b[0;32mif\u001b[0m \u001b[0mtz_parsed\u001b[0m \u001b[0;32mis\u001b[0m \u001b[0;32mnot\u001b[0m \u001b[0;32mNone\u001b[0m\u001b[0;34m:\u001b[0m\u001b[0;34m\u001b[0m\u001b[0;34m\u001b[0m\u001b[0m\n",
            "\u001b[0;32m/usr/local/lib/python3.7/dist-packages/pandas/core/arrays/datetimes.py\u001b[0m in \u001b[0;36mobjects_to_datetime64ns\u001b[0;34m(data, dayfirst, yearfirst, utc, errors, require_iso8601, allow_object)\u001b[0m\n\u001b[1;32m   2053\u001b[0m             \u001b[0mdayfirst\u001b[0m\u001b[0;34m=\u001b[0m\u001b[0mdayfirst\u001b[0m\u001b[0;34m,\u001b[0m\u001b[0;34m\u001b[0m\u001b[0;34m\u001b[0m\u001b[0m\n\u001b[1;32m   2054\u001b[0m             \u001b[0myearfirst\u001b[0m\u001b[0;34m=\u001b[0m\u001b[0myearfirst\u001b[0m\u001b[0;34m,\u001b[0m\u001b[0;34m\u001b[0m\u001b[0;34m\u001b[0m\u001b[0m\n\u001b[0;32m-> 2055\u001b[0;31m             \u001b[0mrequire_iso8601\u001b[0m\u001b[0;34m=\u001b[0m\u001b[0mrequire_iso8601\u001b[0m\u001b[0;34m,\u001b[0m\u001b[0;34m\u001b[0m\u001b[0;34m\u001b[0m\u001b[0m\n\u001b[0m\u001b[1;32m   2056\u001b[0m         )\n\u001b[1;32m   2057\u001b[0m     \u001b[0;32mexcept\u001b[0m \u001b[0mValueError\u001b[0m \u001b[0;32mas\u001b[0m \u001b[0me\u001b[0m\u001b[0;34m:\u001b[0m\u001b[0;34m\u001b[0m\u001b[0;34m\u001b[0m\u001b[0m\n",
            "\u001b[0;32mpandas/_libs/tslib.pyx\u001b[0m in \u001b[0;36mpandas._libs.tslib.array_to_datetime\u001b[0;34m()\u001b[0m\n",
            "\u001b[0;32mpandas/_libs/tslib.pyx\u001b[0m in \u001b[0;36mpandas._libs.tslib.array_to_datetime\u001b[0;34m()\u001b[0m\n",
            "\u001b[0;31mValueError\u001b[0m: mixed datetimes and integers in passed array"
          ]
        }
      ]
    },
    {
      "cell_type": "markdown",
      "metadata": {
        "id": "PVdheRzqxo8m"
      },
      "source": [
        "## Xác định người rời bỏ dịch vụ: \n",
        "Ngườ rời bỏ dịch vụ là những người như sau: \n",
        "\n",
        "\n",
        "1.   Là người đã đăg kí Internet banking và trong ba tháng gần nhất không có giao dịch, active trên ứng dụng này tính đến ngày 31-12-2019 (active_nota)\n",
        "2.   Là người đã đăng kí Internet Banking, nhưng không active, không có giao dịch nào trên My VIB (active_a1)\n",
        "3. Là người đã đăng kí INternet Banking, không active, nhưng trog ba tháng gần đây nhất không có giao dịch nào, tính đến ngày 31-12-2019. (active_a2)\n",
        "\n"
      ]
    },
    {
      "cell_type": "code",
      "metadata": {
        "id": "KphwvBmDB_W6"
      },
      "source": [
        "## xacs định khách hàng có active và không active\n",
        "## tập hợp những khách hàng không active\n",
        "active_a = df1[df1['active_count'] == 'a']\n",
        "## tập hợp những khách hàng active\n",
        "active_nota = df1[df1['active_count'] != 'a']\n",
        "## tập hợp khách hàng không active, và không cso transaction\n",
        "active_a1 = active_a[active_a['TRANS_NO']=='a']\n",
        "## tâp hợp khách hàng không active, nhưng có transaction\n",
        "active_a2 = active_a[active_a['TRANS_NO']!='a']\n"
      ],
      "execution_count": null,
      "outputs": []
    },
    {
      "cell_type": "code",
      "metadata": {
        "colab": {
          "base_uri": "https://localhost:8080/"
        },
        "id": "15YS56NiPmsS",
        "outputId": "a0a94f69-a160-4dc2-caa5-57b161957732"
      },
      "source": [
        "len(active_a)"
      ],
      "execution_count": null,
      "outputs": [
        {
          "output_type": "execute_result",
          "data": {
            "text/plain": [
              "56774"
            ]
          },
          "metadata": {
            "tags": []
          },
          "execution_count": 212
        }
      ]
    },
    {
      "cell_type": "code",
      "metadata": {
        "colab": {
          "base_uri": "https://localhost:8080/"
        },
        "id": "FrmkTLKSPsHS",
        "outputId": "e5b7e628-2ae3-4cd7-b247-e5fac9d57153"
      },
      "source": [
        "len(active_nota)"
      ],
      "execution_count": null,
      "outputs": [
        {
          "output_type": "execute_result",
          "data": {
            "text/plain": [
              "77741"
            ]
          },
          "metadata": {
            "tags": []
          },
          "execution_count": 213
        }
      ]
    },
    {
      "cell_type": "code",
      "metadata": {
        "colab": {
          "base_uri": "https://localhost:8080/"
        },
        "id": "Xya7bNoEw_dq",
        "outputId": "d03d5da7-117c-41e5-ecd8-3106b1dfbcd3"
      },
      "source": [
        "### Xác định rời bỏ với nhóm đối tượng active\n",
        "active_nota['new_buy'] = active_nota['date_max'] + datetime.timedelta(days = 90)\n",
        "active_nota\n",
        "active_nota['left2'] = active_nota['new_buy'] < pd.to_datetime('2019-12-31')\n",
        "active_nota.left2 = active_nota.left2.replace({False:'0',True:'1'})\n",
        "active_nota.left2.value_counts()"
      ],
      "execution_count": null,
      "outputs": [
        {
          "output_type": "stream",
          "text": [
            "/usr/local/lib/python3.7/dist-packages/ipykernel_launcher.py:2: SettingWithCopyWarning: \n",
            "A value is trying to be set on a copy of a slice from a DataFrame.\n",
            "Try using .loc[row_indexer,col_indexer] = value instead\n",
            "\n",
            "See the caveats in the documentation: https://pandas.pydata.org/pandas-docs/stable/user_guide/indexing.html#returning-a-view-versus-a-copy\n",
            "  \n",
            "/usr/local/lib/python3.7/dist-packages/ipykernel_launcher.py:4: SettingWithCopyWarning: \n",
            "A value is trying to be set on a copy of a slice from a DataFrame.\n",
            "Try using .loc[row_indexer,col_indexer] = value instead\n",
            "\n",
            "See the caveats in the documentation: https://pandas.pydata.org/pandas-docs/stable/user_guide/indexing.html#returning-a-view-versus-a-copy\n",
            "  after removing the cwd from sys.path.\n",
            "/usr/local/lib/python3.7/dist-packages/pandas/core/generic.py:5170: SettingWithCopyWarning: \n",
            "A value is trying to be set on a copy of a slice from a DataFrame.\n",
            "Try using .loc[row_indexer,col_indexer] = value instead\n",
            "\n",
            "See the caveats in the documentation: https://pandas.pydata.org/pandas-docs/stable/user_guide/indexing.html#returning-a-view-versus-a-copy\n",
            "  self[name] = value\n"
          ],
          "name": "stderr"
        },
        {
          "output_type": "execute_result",
          "data": {
            "text/plain": [
              "0    70602\n",
              "1     7139\n",
              "Name: left2, dtype: int64"
            ]
          },
          "metadata": {
            "tags": []
          },
          "execution_count": 214
        }
      ]
    },
    {
      "cell_type": "code",
      "metadata": {
        "colab": {
          "base_uri": "https://localhost:8080/"
        },
        "id": "J0yNoDDJgDLF",
        "outputId": "31397b3b-6dd7-497a-e869-42f91b64426f"
      },
      "source": [
        "## Xác định rời bỏ với nhóm đối tượng không có giao dịch, không active\n",
        "active_a1['left2'] = '1'\n",
        "active_a1.left2.value_counts()"
      ],
      "execution_count": null,
      "outputs": [
        {
          "output_type": "stream",
          "text": [
            "/usr/local/lib/python3.7/dist-packages/ipykernel_launcher.py:2: SettingWithCopyWarning: \n",
            "A value is trying to be set on a copy of a slice from a DataFrame.\n",
            "Try using .loc[row_indexer,col_indexer] = value instead\n",
            "\n",
            "See the caveats in the documentation: https://pandas.pydata.org/pandas-docs/stable/user_guide/indexing.html#returning-a-view-versus-a-copy\n",
            "  \n"
          ],
          "name": "stderr"
        },
        {
          "output_type": "execute_result",
          "data": {
            "text/plain": [
              "1    56403\n",
              "Name: left2, dtype: int64"
            ]
          },
          "metadata": {
            "tags": []
          },
          "execution_count": 215
        }
      ]
    },
    {
      "cell_type": "code",
      "metadata": {
        "colab": {
          "base_uri": "https://localhost:8080/"
        },
        "id": "NBeOG_vnlUJX",
        "outputId": "759a798b-3f4d-4fda-bd68-206bf2aecb33"
      },
      "source": [
        "## Xác định rời bỏ với nhóm đối tượng không active, nhưng có giao dịch\n",
        "active_a2['TRANS_DATEMAX'] = pd.to_datetime(active_a2['TRANS_DATEMAX'])\n",
        "active_a2['new_buy'] = active_a2['TRANS_DATEMAX'] + datetime.timedelta(days = 90)\n",
        "active_a2['left2'] = active_a2['new_buy'] < pd.to_datetime('2019-12-31')\n",
        "active_a2.left2 = active_a2.left2.replace({False:'0',True:'1'})\n",
        "active_a2.left2.value_counts()\n"
      ],
      "execution_count": null,
      "outputs": [
        {
          "output_type": "stream",
          "text": [
            "/usr/local/lib/python3.7/dist-packages/ipykernel_launcher.py:2: SettingWithCopyWarning: \n",
            "A value is trying to be set on a copy of a slice from a DataFrame.\n",
            "Try using .loc[row_indexer,col_indexer] = value instead\n",
            "\n",
            "See the caveats in the documentation: https://pandas.pydata.org/pandas-docs/stable/user_guide/indexing.html#returning-a-view-versus-a-copy\n",
            "  \n",
            "/usr/local/lib/python3.7/dist-packages/ipykernel_launcher.py:3: SettingWithCopyWarning: \n",
            "A value is trying to be set on a copy of a slice from a DataFrame.\n",
            "Try using .loc[row_indexer,col_indexer] = value instead\n",
            "\n",
            "See the caveats in the documentation: https://pandas.pydata.org/pandas-docs/stable/user_guide/indexing.html#returning-a-view-versus-a-copy\n",
            "  This is separate from the ipykernel package so we can avoid doing imports until\n",
            "/usr/local/lib/python3.7/dist-packages/ipykernel_launcher.py:4: SettingWithCopyWarning: \n",
            "A value is trying to be set on a copy of a slice from a DataFrame.\n",
            "Try using .loc[row_indexer,col_indexer] = value instead\n",
            "\n",
            "See the caveats in the documentation: https://pandas.pydata.org/pandas-docs/stable/user_guide/indexing.html#returning-a-view-versus-a-copy\n",
            "  after removing the cwd from sys.path.\n",
            "/usr/local/lib/python3.7/dist-packages/pandas/core/generic.py:5170: SettingWithCopyWarning: \n",
            "A value is trying to be set on a copy of a slice from a DataFrame.\n",
            "Try using .loc[row_indexer,col_indexer] = value instead\n",
            "\n",
            "See the caveats in the documentation: https://pandas.pydata.org/pandas-docs/stable/user_guide/indexing.html#returning-a-view-versus-a-copy\n",
            "  self[name] = value\n"
          ],
          "name": "stderr"
        },
        {
          "output_type": "execute_result",
          "data": {
            "text/plain": [
              "0    254\n",
              "1    117\n",
              "Name: left2, dtype: int64"
            ]
          },
          "metadata": {
            "tags": []
          },
          "execution_count": 216
        }
      ]
    },
    {
      "cell_type": "code",
      "metadata": {
        "colab": {
          "base_uri": "https://localhost:8080/"
        },
        "id": "lIJclNwkX-BS",
        "outputId": "8b01d998-8a43-480d-94ee-0fa238dd2e42"
      },
      "source": [
        "df_left = pd.concat([active_nota,active_a1,active_a2])\n",
        "df_left.sort_values('CUSTOMER_NUMBER',ascending = True, inplace=True)\n",
        "df_left.left2 = df_left.left2.str.strip()\n",
        "df_left.left2.value_counts()"
      ],
      "execution_count": null,
      "outputs": [
        {
          "output_type": "execute_result",
          "data": {
            "text/plain": [
              "0    70856\n",
              "1    63659\n",
              "Name: left2, dtype: int64"
            ]
          },
          "metadata": {
            "tags": []
          },
          "execution_count": 217
        }
      ]
    },
    {
      "cell_type": "code",
      "metadata": {
        "colab": {
          "base_uri": "https://localhost:8080/"
        },
        "id": "bF3HD1ans72X",
        "outputId": "8db6d6e2-0173-4a73-c6b8-d899321a2085"
      },
      "source": [
        "df_myVIB = df_left[(df_left['CLIENT_SEX']!=0) & (df_left['CLIENT_SEX']!='a')]\n",
        "df_myVIB.left2.value_counts()"
      ],
      "execution_count": null,
      "outputs": [
        {
          "output_type": "execute_result",
          "data": {
            "text/plain": [
              "0    70690\n",
              "1    63472\n",
              "Name: left2, dtype: int64"
            ]
          },
          "metadata": {
            "tags": []
          },
          "execution_count": 218
        }
      ]
    },
    {
      "cell_type": "code",
      "metadata": {
        "colab": {
          "base_uri": "https://localhost:8080/"
        },
        "id": "J79q3GiRNbFC",
        "outputId": "c06e784f-70d2-445c-8635-92e017f8ae52"
      },
      "source": [
        "df_myVIB = df_myVIB.drop(['TRANS_DATEMAX','TRANS_DATEMIN','date_max','date_min','new_buy'],axis = 1)\n",
        "df_myVIB.isna().sum()"
      ],
      "execution_count": null,
      "outputs": [
        {
          "output_type": "execute_result",
          "data": {
            "text/plain": [
              "CUSTOMER_NUMBER        0\n",
              "CLIENT_SEX             0\n",
              "STAFF_VIB              0\n",
              "EB_REGISTER_CHANNEL    0\n",
              "SMS                    0\n",
              "VERIFY_METHOD          0\n",
              "age                    0\n",
              "TOTAL_TRANS_AMOUNT     0\n",
              "TRANS_NO               0\n",
              "active_count           0\n",
              "activehour_mean        0\n",
              "left2                  0\n",
              "dtype: int64"
            ]
          },
          "metadata": {
            "tags": []
          },
          "execution_count": 219
        }
      ]
    },
    {
      "cell_type": "markdown",
      "metadata": {
        "id": "xvymUOAhSTXa"
      },
      "source": [
        "## DATA DEPOSIT"
      ]
    },
    {
      "cell_type": "code",
      "metadata": {
        "id": "UVF1dSYeWqj9"
      },
      "source": [
        "data_deposit = pd.read_csv('/content/gdrive/MyDrive/VIB DATA/4.Data_Deposit.csv')\n",
        "data_deposit['MONTH'] = pd.to_datetime(data_deposit['MONTH'])\n",
        "data_deposit.sort_values(by = ['CUSTOMER_NUMBER','MONTH'],ascending = (True,False), inplace = True)\n",
        "dep1 = data_deposit.drop_duplicates(subset=['CUSTOMER_NUMBER'], keep = 'first')\n",
        "dep1 = dep1.drop(['MONTH','AVG_CA_BALANCE','AVG_TD_BALANCE'],axis = 1)\n",
        "dep1['COUNT_CA_ACCT'] = dep1['COUNT_CA_ACCT'].replace([2,3,4,5,6,7,8,10],1)\n",
        "dep1['COUNT_TD_ACCT'] = dep1['COUNT_TD_ACCT'].replace([2,3,4,5,6,7,8,9,10,11,12,13,14,15,16,18,17,24,33,20,21,23,27,36],1)"
      ],
      "execution_count": null,
      "outputs": []
    },
    {
      "cell_type": "code",
      "metadata": {
        "id": "708M7XKnrmnw",
        "colab": {
          "base_uri": "https://localhost:8080/",
          "height": 417
        },
        "outputId": "f6451307-3fa3-484b-c395-6f3dc01e104f"
      },
      "source": [
        "data_deposit['MONTH'] = pd.to_datetime(data_deposit['MONTH'])\n",
        "datade = data_deposit.groupby('CUSTOMER_NUMBER').agg({'AVG_CA_BALANCE':'sum','AVG_TD_BALANCE':'sum'})\n",
        "datade.columns = ['current account', 'term account']\n",
        "datade = datade.reset_index()\n",
        "datade"
      ],
      "execution_count": null,
      "outputs": [
        {
          "output_type": "execute_result",
          "data": {
            "text/html": [
              "<div>\n",
              "<style scoped>\n",
              "    .dataframe tbody tr th:only-of-type {\n",
              "        vertical-align: middle;\n",
              "    }\n",
              "\n",
              "    .dataframe tbody tr th {\n",
              "        vertical-align: top;\n",
              "    }\n",
              "\n",
              "    .dataframe thead th {\n",
              "        text-align: right;\n",
              "    }\n",
              "</style>\n",
              "<table border=\"1\" class=\"dataframe\">\n",
              "  <thead>\n",
              "    <tr style=\"text-align: right;\">\n",
              "      <th></th>\n",
              "      <th>CUSTOMER_NUMBER</th>\n",
              "      <th>current account</th>\n",
              "      <th>term account</th>\n",
              "    </tr>\n",
              "  </thead>\n",
              "  <tbody>\n",
              "    <tr>\n",
              "      <th>0</th>\n",
              "      <td>0</td>\n",
              "      <td>92856840.85</td>\n",
              "      <td>0.0</td>\n",
              "    </tr>\n",
              "    <tr>\n",
              "      <th>1</th>\n",
              "      <td>3</td>\n",
              "      <td>3722174.98</td>\n",
              "      <td>0.0</td>\n",
              "    </tr>\n",
              "    <tr>\n",
              "      <th>2</th>\n",
              "      <td>4</td>\n",
              "      <td>2205938.00</td>\n",
              "      <td>643548387.1</td>\n",
              "    </tr>\n",
              "    <tr>\n",
              "      <th>3</th>\n",
              "      <td>7</td>\n",
              "      <td>4392673.57</td>\n",
              "      <td>0.0</td>\n",
              "    </tr>\n",
              "    <tr>\n",
              "      <th>4</th>\n",
              "      <td>9</td>\n",
              "      <td>12951325.77</td>\n",
              "      <td>0.0</td>\n",
              "    </tr>\n",
              "    <tr>\n",
              "      <th>...</th>\n",
              "      <td>...</td>\n",
              "      <td>...</td>\n",
              "      <td>...</td>\n",
              "    </tr>\n",
              "    <tr>\n",
              "      <th>223812</th>\n",
              "      <td>999977</td>\n",
              "      <td>11382302.14</td>\n",
              "      <td>0.0</td>\n",
              "    </tr>\n",
              "    <tr>\n",
              "      <th>223813</th>\n",
              "      <td>999982</td>\n",
              "      <td>474193.55</td>\n",
              "      <td>0.0</td>\n",
              "    </tr>\n",
              "    <tr>\n",
              "      <th>223814</th>\n",
              "      <td>999993</td>\n",
              "      <td>407301.07</td>\n",
              "      <td>0.0</td>\n",
              "    </tr>\n",
              "    <tr>\n",
              "      <th>223815</th>\n",
              "      <td>999996</td>\n",
              "      <td>64413149.41</td>\n",
              "      <td>0.0</td>\n",
              "    </tr>\n",
              "    <tr>\n",
              "      <th>223816</th>\n",
              "      <td>999997</td>\n",
              "      <td>925645.16</td>\n",
              "      <td>0.0</td>\n",
              "    </tr>\n",
              "  </tbody>\n",
              "</table>\n",
              "<p>223817 rows × 3 columns</p>\n",
              "</div>"
            ],
            "text/plain": [
              "        CUSTOMER_NUMBER  current account  term account\n",
              "0                     0      92856840.85           0.0\n",
              "1                     3       3722174.98           0.0\n",
              "2                     4       2205938.00   643548387.1\n",
              "3                     7       4392673.57           0.0\n",
              "4                     9      12951325.77           0.0\n",
              "...                 ...              ...           ...\n",
              "223812           999977      11382302.14           0.0\n",
              "223813           999982        474193.55           0.0\n",
              "223814           999993        407301.07           0.0\n",
              "223815           999996      64413149.41           0.0\n",
              "223816           999997        925645.16           0.0\n",
              "\n",
              "[223817 rows x 3 columns]"
            ]
          },
          "metadata": {
            "tags": []
          },
          "execution_count": 221
        }
      ]
    },
    {
      "cell_type": "code",
      "metadata": {
        "colab": {
          "base_uri": "https://localhost:8080/"
        },
        "id": "aM2Xf0m137P5",
        "outputId": "f47166cc-54eb-4470-c95e-8fabe82a51c1"
      },
      "source": [
        "data_depositfn = pd.merge(datade,dep1,how = 'outer', on = 'CUSTOMER_NUMBER')\n",
        "data_depositfn\n",
        "data_depositfn['COUNT_TD_ACCT'].value_counts()"
      ],
      "execution_count": null,
      "outputs": [
        {
          "output_type": "execute_result",
          "data": {
            "text/plain": [
              "0    187081\n",
              "1     36736\n",
              "Name: COUNT_TD_ACCT, dtype: int64"
            ]
          },
          "metadata": {
            "tags": []
          },
          "execution_count": 222
        }
      ]
    },
    {
      "cell_type": "markdown",
      "metadata": {
        "id": "2nGUsk3laMoe"
      },
      "source": [
        "# DATA LENDING"
      ]
    },
    {
      "cell_type": "code",
      "metadata": {
        "colab": {
          "base_uri": "https://localhost:8080/",
          "height": 447
        },
        "id": "4lRy5PPgW-fy",
        "outputId": "afe780b3-e5fe-436e-efef-6993ff06150b"
      },
      "source": [
        "data_lending = pd.read_csv('/content/gdrive/MyDrive/VIB DATA/5.Data_Lending.csv')\n",
        "data_lendingfn = data_lending.groupby('CUSTOMER_NUMBER').agg({'COUNT_OF_LOAN':'sum','AVG_LOAN_AMOUNT':'sum'})\n",
        "data_lendingfn['COUNT_OF_LOAN'] = 1\n",
        "data_lendingfn['COUNT_OF_LOAN'].value_counts()\n",
        "data_lendingfn"
      ],
      "execution_count": null,
      "outputs": [
        {
          "output_type": "execute_result",
          "data": {
            "text/html": [
              "<div>\n",
              "<style scoped>\n",
              "    .dataframe tbody tr th:only-of-type {\n",
              "        vertical-align: middle;\n",
              "    }\n",
              "\n",
              "    .dataframe tbody tr th {\n",
              "        vertical-align: top;\n",
              "    }\n",
              "\n",
              "    .dataframe thead th {\n",
              "        text-align: right;\n",
              "    }\n",
              "</style>\n",
              "<table border=\"1\" class=\"dataframe\">\n",
              "  <thead>\n",
              "    <tr style=\"text-align: right;\">\n",
              "      <th></th>\n",
              "      <th>COUNT_OF_LOAN</th>\n",
              "      <th>AVG_LOAN_AMOUNT</th>\n",
              "    </tr>\n",
              "    <tr>\n",
              "      <th>CUSTOMER_NUMBER</th>\n",
              "      <th></th>\n",
              "      <th></th>\n",
              "    </tr>\n",
              "  </thead>\n",
              "  <tbody>\n",
              "    <tr>\n",
              "      <th>7</th>\n",
              "      <td>1</td>\n",
              "      <td>1.638486e+09</td>\n",
              "    </tr>\n",
              "    <tr>\n",
              "      <th>8</th>\n",
              "      <td>1</td>\n",
              "      <td>2.118730e+08</td>\n",
              "    </tr>\n",
              "    <tr>\n",
              "      <th>9</th>\n",
              "      <td>1</td>\n",
              "      <td>4.624167e+09</td>\n",
              "    </tr>\n",
              "    <tr>\n",
              "      <th>14</th>\n",
              "      <td>1</td>\n",
              "      <td>7.417049e+07</td>\n",
              "    </tr>\n",
              "    <tr>\n",
              "      <th>16</th>\n",
              "      <td>1</td>\n",
              "      <td>5.962500e+09</td>\n",
              "    </tr>\n",
              "    <tr>\n",
              "      <th>...</th>\n",
              "      <td>...</td>\n",
              "      <td>...</td>\n",
              "    </tr>\n",
              "    <tr>\n",
              "      <th>999926</th>\n",
              "      <td>1</td>\n",
              "      <td>1.182219e+09</td>\n",
              "    </tr>\n",
              "    <tr>\n",
              "      <th>999928</th>\n",
              "      <td>1</td>\n",
              "      <td>8.142000e+08</td>\n",
              "    </tr>\n",
              "    <tr>\n",
              "      <th>999953</th>\n",
              "      <td>1</td>\n",
              "      <td>1.330000e+09</td>\n",
              "    </tr>\n",
              "    <tr>\n",
              "      <th>999956</th>\n",
              "      <td>1</td>\n",
              "      <td>7.854000e+08</td>\n",
              "    </tr>\n",
              "    <tr>\n",
              "      <th>999982</th>\n",
              "      <td>1</td>\n",
              "      <td>2.351376e+08</td>\n",
              "    </tr>\n",
              "  </tbody>\n",
              "</table>\n",
              "<p>102014 rows × 2 columns</p>\n",
              "</div>"
            ],
            "text/plain": [
              "                 COUNT_OF_LOAN  AVG_LOAN_AMOUNT\n",
              "CUSTOMER_NUMBER                                \n",
              "7                            1     1.638486e+09\n",
              "8                            1     2.118730e+08\n",
              "9                            1     4.624167e+09\n",
              "14                           1     7.417049e+07\n",
              "16                           1     5.962500e+09\n",
              "...                        ...              ...\n",
              "999926                       1     1.182219e+09\n",
              "999928                       1     8.142000e+08\n",
              "999953                       1     1.330000e+09\n",
              "999956                       1     7.854000e+08\n",
              "999982                       1     2.351376e+08\n",
              "\n",
              "[102014 rows x 2 columns]"
            ]
          },
          "metadata": {
            "tags": []
          },
          "execution_count": 223
        }
      ]
    },
    {
      "cell_type": "markdown",
      "metadata": {
        "id": "_jnWW6OZabmo"
      },
      "source": [
        "# DATA CARD"
      ]
    },
    {
      "cell_type": "code",
      "metadata": {
        "id": "LA8ZZZ9Tamg3",
        "colab": {
          "base_uri": "https://localhost:8080/",
          "height": 786
        },
        "outputId": "ec118eb6-e073-4891-b448-d241da31a078"
      },
      "source": [
        "data_card = pd.read_csv('/content/gdrive/MyDrive/VIB DATA/6.Data_Card.csv')\n",
        "data_cardfn = data_card[data_card['MONTH'] =='12/31/2019']\n",
        "data_cardfn.drop('MONTH',axis = 1, inplace= True)\n",
        "data_cardfn.sort_values('CUSTOMER_NUMBER', ascending = True, inplace=True)\n",
        "data_cardfn\n",
        "data_cardfn['COUNT_DEBITCARD'] = data_cardfn['COUNT_DEBITCARD'].replace([2,3,4,5,6,7,8,9,10,11,12,19],1)\n",
        "data_cardfn['COUNT_CREDITCARD'] = data_cardfn['COUNT_CREDITCARD'].replace([2,3,4,5,6,7,10,11,13],1)\n",
        "data_cardfn\n",
        "data_card"
      ],
      "execution_count": null,
      "outputs": [
        {
          "output_type": "stream",
          "text": [
            "/usr/local/lib/python3.7/dist-packages/pandas/core/frame.py:4174: SettingWithCopyWarning: \n",
            "A value is trying to be set on a copy of a slice from a DataFrame\n",
            "\n",
            "See the caveats in the documentation: https://pandas.pydata.org/pandas-docs/stable/user_guide/indexing.html#returning-a-view-versus-a-copy\n",
            "  errors=errors,\n",
            "/usr/local/lib/python3.7/dist-packages/ipykernel_launcher.py:4: SettingWithCopyWarning: \n",
            "A value is trying to be set on a copy of a slice from a DataFrame\n",
            "\n",
            "See the caveats in the documentation: https://pandas.pydata.org/pandas-docs/stable/user_guide/indexing.html#returning-a-view-versus-a-copy\n",
            "  after removing the cwd from sys.path.\n",
            "/usr/local/lib/python3.7/dist-packages/ipykernel_launcher.py:6: SettingWithCopyWarning: \n",
            "A value is trying to be set on a copy of a slice from a DataFrame.\n",
            "Try using .loc[row_indexer,col_indexer] = value instead\n",
            "\n",
            "See the caveats in the documentation: https://pandas.pydata.org/pandas-docs/stable/user_guide/indexing.html#returning-a-view-versus-a-copy\n",
            "  \n",
            "/usr/local/lib/python3.7/dist-packages/ipykernel_launcher.py:7: SettingWithCopyWarning: \n",
            "A value is trying to be set on a copy of a slice from a DataFrame.\n",
            "Try using .loc[row_indexer,col_indexer] = value instead\n",
            "\n",
            "See the caveats in the documentation: https://pandas.pydata.org/pandas-docs/stable/user_guide/indexing.html#returning-a-view-versus-a-copy\n",
            "  import sys\n"
          ],
          "name": "stderr"
        },
        {
          "output_type": "execute_result",
          "data": {
            "text/html": [
              "<div>\n",
              "<style scoped>\n",
              "    .dataframe tbody tr th:only-of-type {\n",
              "        vertical-align: middle;\n",
              "    }\n",
              "\n",
              "    .dataframe tbody tr th {\n",
              "        vertical-align: top;\n",
              "    }\n",
              "\n",
              "    .dataframe thead th {\n",
              "        text-align: right;\n",
              "    }\n",
              "</style>\n",
              "<table border=\"1\" class=\"dataframe\">\n",
              "  <thead>\n",
              "    <tr style=\"text-align: right;\">\n",
              "      <th></th>\n",
              "      <th>MONTH</th>\n",
              "      <th>COUNT_CREDITCARD</th>\n",
              "      <th>COUNT_DEBITCARD</th>\n",
              "      <th>CUSTOMER_NUMBER</th>\n",
              "    </tr>\n",
              "  </thead>\n",
              "  <tbody>\n",
              "    <tr>\n",
              "      <th>0</th>\n",
              "      <td>9/30/2019</td>\n",
              "      <td>0</td>\n",
              "      <td>1</td>\n",
              "      <td>914326</td>\n",
              "    </tr>\n",
              "    <tr>\n",
              "      <th>1</th>\n",
              "      <td>4/30/2019</td>\n",
              "      <td>0</td>\n",
              "      <td>1</td>\n",
              "      <td>914326</td>\n",
              "    </tr>\n",
              "    <tr>\n",
              "      <th>2</th>\n",
              "      <td>11/30/2019</td>\n",
              "      <td>0</td>\n",
              "      <td>1</td>\n",
              "      <td>914326</td>\n",
              "    </tr>\n",
              "    <tr>\n",
              "      <th>3</th>\n",
              "      <td>8/31/2019</td>\n",
              "      <td>0</td>\n",
              "      <td>1</td>\n",
              "      <td>914326</td>\n",
              "    </tr>\n",
              "    <tr>\n",
              "      <th>4</th>\n",
              "      <td>12/31/2019</td>\n",
              "      <td>0</td>\n",
              "      <td>1</td>\n",
              "      <td>914326</td>\n",
              "    </tr>\n",
              "    <tr>\n",
              "      <th>...</th>\n",
              "      <td>...</td>\n",
              "      <td>...</td>\n",
              "      <td>...</td>\n",
              "      <td>...</td>\n",
              "    </tr>\n",
              "    <tr>\n",
              "      <th>871584</th>\n",
              "      <td>12/31/2019</td>\n",
              "      <td>0</td>\n",
              "      <td>1</td>\n",
              "      <td>458175</td>\n",
              "    </tr>\n",
              "    <tr>\n",
              "      <th>871585</th>\n",
              "      <td>12/31/2019</td>\n",
              "      <td>1</td>\n",
              "      <td>0</td>\n",
              "      <td>738986</td>\n",
              "    </tr>\n",
              "    <tr>\n",
              "      <th>871586</th>\n",
              "      <td>12/31/2019</td>\n",
              "      <td>0</td>\n",
              "      <td>1</td>\n",
              "      <td>778813</td>\n",
              "    </tr>\n",
              "    <tr>\n",
              "      <th>871587</th>\n",
              "      <td>12/31/2019</td>\n",
              "      <td>1</td>\n",
              "      <td>0</td>\n",
              "      <td>671312</td>\n",
              "    </tr>\n",
              "    <tr>\n",
              "      <th>871588</th>\n",
              "      <td>12/31/2019</td>\n",
              "      <td>0</td>\n",
              "      <td>1</td>\n",
              "      <td>303267</td>\n",
              "    </tr>\n",
              "  </tbody>\n",
              "</table>\n",
              "<p>871589 rows × 4 columns</p>\n",
              "</div>"
            ],
            "text/plain": [
              "             MONTH  COUNT_CREDITCARD  COUNT_DEBITCARD  CUSTOMER_NUMBER\n",
              "0        9/30/2019                 0                1           914326\n",
              "1        4/30/2019                 0                1           914326\n",
              "2       11/30/2019                 0                1           914326\n",
              "3        8/31/2019                 0                1           914326\n",
              "4       12/31/2019                 0                1           914326\n",
              "...            ...               ...              ...              ...\n",
              "871584  12/31/2019                 0                1           458175\n",
              "871585  12/31/2019                 1                0           738986\n",
              "871586  12/31/2019                 0                1           778813\n",
              "871587  12/31/2019                 1                0           671312\n",
              "871588  12/31/2019                 0                1           303267\n",
              "\n",
              "[871589 rows x 4 columns]"
            ]
          },
          "metadata": {
            "tags": []
          },
          "execution_count": 224
        }
      ]
    },
    {
      "cell_type": "markdown",
      "metadata": {
        "id": "ojqCa34Qp-St"
      },
      "source": [
        "## MERGE DATA"
      ]
    },
    {
      "cell_type": "code",
      "metadata": {
        "id": "VWYxdhoapKLX"
      },
      "source": [
        "from functools import reduce\n",
        "data_frames = [df_myVIB,data_depositfn,data_lendingfn,data_cardfn]"
      ],
      "execution_count": null,
      "outputs": []
    },
    {
      "cell_type": "code",
      "metadata": {
        "id": "wGzm0r0onkaw",
        "colab": {
          "base_uri": "https://localhost:8080/",
          "height": 454
        },
        "outputId": "e99cbf2c-29bd-4d70-99e6-cf9723a29411"
      },
      "source": [
        "df_merged = reduce(lambda  left,right: pd.merge(left,right,on=['CUSTOMER_NUMBER'],\n",
        "                                            how='outer'), data_frames)\n",
        "df_merged\n"
      ],
      "execution_count": null,
      "outputs": [
        {
          "output_type": "execute_result",
          "data": {
            "text/html": [
              "<div>\n",
              "<style scoped>\n",
              "    .dataframe tbody tr th:only-of-type {\n",
              "        vertical-align: middle;\n",
              "    }\n",
              "\n",
              "    .dataframe tbody tr th {\n",
              "        vertical-align: top;\n",
              "    }\n",
              "\n",
              "    .dataframe thead th {\n",
              "        text-align: right;\n",
              "    }\n",
              "</style>\n",
              "<table border=\"1\" class=\"dataframe\">\n",
              "  <thead>\n",
              "    <tr style=\"text-align: right;\">\n",
              "      <th></th>\n",
              "      <th>CUSTOMER_NUMBER</th>\n",
              "      <th>CLIENT_SEX</th>\n",
              "      <th>STAFF_VIB</th>\n",
              "      <th>EB_REGISTER_CHANNEL</th>\n",
              "      <th>SMS</th>\n",
              "      <th>VERIFY_METHOD</th>\n",
              "      <th>age</th>\n",
              "      <th>TOTAL_TRANS_AMOUNT</th>\n",
              "      <th>TRANS_NO</th>\n",
              "      <th>active_count</th>\n",
              "      <th>activehour_mean</th>\n",
              "      <th>left2</th>\n",
              "      <th>current account</th>\n",
              "      <th>term account</th>\n",
              "      <th>COUNT_CA_ACCT</th>\n",
              "      <th>COUNT_TD_ACCT</th>\n",
              "      <th>COUNT_OF_LOAN</th>\n",
              "      <th>AVG_LOAN_AMOUNT</th>\n",
              "      <th>COUNT_CREDITCARD</th>\n",
              "      <th>COUNT_DEBITCARD</th>\n",
              "    </tr>\n",
              "  </thead>\n",
              "  <tbody>\n",
              "    <tr>\n",
              "      <th>0</th>\n",
              "      <td>0</td>\n",
              "      <td>F</td>\n",
              "      <td>N</td>\n",
              "      <td>BRANCH</td>\n",
              "      <td>N</td>\n",
              "      <td>SMART_OTP</td>\n",
              "      <td>31</td>\n",
              "      <td>2.49819e+08</td>\n",
              "      <td>11</td>\n",
              "      <td>12</td>\n",
              "      <td>13.0952</td>\n",
              "      <td>0</td>\n",
              "      <td>92856840.85</td>\n",
              "      <td>0.0</td>\n",
              "      <td>1.0</td>\n",
              "      <td>0.0</td>\n",
              "      <td>NaN</td>\n",
              "      <td>NaN</td>\n",
              "      <td>0.0</td>\n",
              "      <td>1.0</td>\n",
              "    </tr>\n",
              "    <tr>\n",
              "      <th>1</th>\n",
              "      <td>3</td>\n",
              "      <td>M</td>\n",
              "      <td>N</td>\n",
              "      <td>MYVIB</td>\n",
              "      <td>Y</td>\n",
              "      <td>SMART_OTP</td>\n",
              "      <td>32</td>\n",
              "      <td>a</td>\n",
              "      <td>a</td>\n",
              "      <td>14</td>\n",
              "      <td>15.4783</td>\n",
              "      <td>0</td>\n",
              "      <td>3722174.98</td>\n",
              "      <td>0.0</td>\n",
              "      <td>1.0</td>\n",
              "      <td>0.0</td>\n",
              "      <td>NaN</td>\n",
              "      <td>NaN</td>\n",
              "      <td>0.0</td>\n",
              "      <td>1.0</td>\n",
              "    </tr>\n",
              "    <tr>\n",
              "      <th>2</th>\n",
              "      <td>9</td>\n",
              "      <td>M</td>\n",
              "      <td>N</td>\n",
              "      <td>BRANCH</td>\n",
              "      <td>Y</td>\n",
              "      <td>SMART_OTP</td>\n",
              "      <td>37</td>\n",
              "      <td>1.1695e+07</td>\n",
              "      <td>6</td>\n",
              "      <td>34</td>\n",
              "      <td>13.1799</td>\n",
              "      <td>0</td>\n",
              "      <td>12951325.77</td>\n",
              "      <td>0.0</td>\n",
              "      <td>1.0</td>\n",
              "      <td>0.0</td>\n",
              "      <td>1.0</td>\n",
              "      <td>4.624167e+09</td>\n",
              "      <td>0.0</td>\n",
              "      <td>1.0</td>\n",
              "    </tr>\n",
              "    <tr>\n",
              "      <th>3</th>\n",
              "      <td>13</td>\n",
              "      <td>F</td>\n",
              "      <td>N</td>\n",
              "      <td>BRANCH</td>\n",
              "      <td>N</td>\n",
              "      <td>SMART_OTP</td>\n",
              "      <td>26</td>\n",
              "      <td>a</td>\n",
              "      <td>a</td>\n",
              "      <td>2</td>\n",
              "      <td>17.3077</td>\n",
              "      <td>1</td>\n",
              "      <td>NaN</td>\n",
              "      <td>NaN</td>\n",
              "      <td>NaN</td>\n",
              "      <td>NaN</td>\n",
              "      <td>NaN</td>\n",
              "      <td>NaN</td>\n",
              "      <td>0.0</td>\n",
              "      <td>1.0</td>\n",
              "    </tr>\n",
              "    <tr>\n",
              "      <th>4</th>\n",
              "      <td>14</td>\n",
              "      <td>F</td>\n",
              "      <td>N</td>\n",
              "      <td>AUTO-JOB</td>\n",
              "      <td>N</td>\n",
              "      <td>SMART_OTP</td>\n",
              "      <td>28</td>\n",
              "      <td>a</td>\n",
              "      <td>a</td>\n",
              "      <td>a</td>\n",
              "      <td>a</td>\n",
              "      <td>1</td>\n",
              "      <td>NaN</td>\n",
              "      <td>NaN</td>\n",
              "      <td>NaN</td>\n",
              "      <td>NaN</td>\n",
              "      <td>1.0</td>\n",
              "      <td>7.417049e+07</td>\n",
              "      <td>1.0</td>\n",
              "      <td>0.0</td>\n",
              "    </tr>\n",
              "    <tr>\n",
              "      <th>...</th>\n",
              "      <td>...</td>\n",
              "      <td>...</td>\n",
              "      <td>...</td>\n",
              "      <td>...</td>\n",
              "      <td>...</td>\n",
              "      <td>...</td>\n",
              "      <td>...</td>\n",
              "      <td>...</td>\n",
              "      <td>...</td>\n",
              "      <td>...</td>\n",
              "      <td>...</td>\n",
              "      <td>...</td>\n",
              "      <td>...</td>\n",
              "      <td>...</td>\n",
              "      <td>...</td>\n",
              "      <td>...</td>\n",
              "      <td>...</td>\n",
              "      <td>...</td>\n",
              "      <td>...</td>\n",
              "      <td>...</td>\n",
              "    </tr>\n",
              "    <tr>\n",
              "      <th>262532</th>\n",
              "      <td>999153</td>\n",
              "      <td>NaN</td>\n",
              "      <td>NaN</td>\n",
              "      <td>NaN</td>\n",
              "      <td>NaN</td>\n",
              "      <td>NaN</td>\n",
              "      <td>NaN</td>\n",
              "      <td>NaN</td>\n",
              "      <td>NaN</td>\n",
              "      <td>NaN</td>\n",
              "      <td>NaN</td>\n",
              "      <td>NaN</td>\n",
              "      <td>NaN</td>\n",
              "      <td>NaN</td>\n",
              "      <td>NaN</td>\n",
              "      <td>NaN</td>\n",
              "      <td>NaN</td>\n",
              "      <td>NaN</td>\n",
              "      <td>0.0</td>\n",
              "      <td>1.0</td>\n",
              "    </tr>\n",
              "    <tr>\n",
              "      <th>262533</th>\n",
              "      <td>999268</td>\n",
              "      <td>NaN</td>\n",
              "      <td>NaN</td>\n",
              "      <td>NaN</td>\n",
              "      <td>NaN</td>\n",
              "      <td>NaN</td>\n",
              "      <td>NaN</td>\n",
              "      <td>NaN</td>\n",
              "      <td>NaN</td>\n",
              "      <td>NaN</td>\n",
              "      <td>NaN</td>\n",
              "      <td>NaN</td>\n",
              "      <td>NaN</td>\n",
              "      <td>NaN</td>\n",
              "      <td>NaN</td>\n",
              "      <td>NaN</td>\n",
              "      <td>NaN</td>\n",
              "      <td>NaN</td>\n",
              "      <td>0.0</td>\n",
              "      <td>1.0</td>\n",
              "    </tr>\n",
              "    <tr>\n",
              "      <th>262534</th>\n",
              "      <td>999382</td>\n",
              "      <td>NaN</td>\n",
              "      <td>NaN</td>\n",
              "      <td>NaN</td>\n",
              "      <td>NaN</td>\n",
              "      <td>NaN</td>\n",
              "      <td>NaN</td>\n",
              "      <td>NaN</td>\n",
              "      <td>NaN</td>\n",
              "      <td>NaN</td>\n",
              "      <td>NaN</td>\n",
              "      <td>NaN</td>\n",
              "      <td>NaN</td>\n",
              "      <td>NaN</td>\n",
              "      <td>NaN</td>\n",
              "      <td>NaN</td>\n",
              "      <td>NaN</td>\n",
              "      <td>NaN</td>\n",
              "      <td>1.0</td>\n",
              "      <td>0.0</td>\n",
              "    </tr>\n",
              "    <tr>\n",
              "      <th>262535</th>\n",
              "      <td>999395</td>\n",
              "      <td>NaN</td>\n",
              "      <td>NaN</td>\n",
              "      <td>NaN</td>\n",
              "      <td>NaN</td>\n",
              "      <td>NaN</td>\n",
              "      <td>NaN</td>\n",
              "      <td>NaN</td>\n",
              "      <td>NaN</td>\n",
              "      <td>NaN</td>\n",
              "      <td>NaN</td>\n",
              "      <td>NaN</td>\n",
              "      <td>NaN</td>\n",
              "      <td>NaN</td>\n",
              "      <td>NaN</td>\n",
              "      <td>NaN</td>\n",
              "      <td>NaN</td>\n",
              "      <td>NaN</td>\n",
              "      <td>0.0</td>\n",
              "      <td>1.0</td>\n",
              "    </tr>\n",
              "    <tr>\n",
              "      <th>262536</th>\n",
              "      <td>999718</td>\n",
              "      <td>NaN</td>\n",
              "      <td>NaN</td>\n",
              "      <td>NaN</td>\n",
              "      <td>NaN</td>\n",
              "      <td>NaN</td>\n",
              "      <td>NaN</td>\n",
              "      <td>NaN</td>\n",
              "      <td>NaN</td>\n",
              "      <td>NaN</td>\n",
              "      <td>NaN</td>\n",
              "      <td>NaN</td>\n",
              "      <td>NaN</td>\n",
              "      <td>NaN</td>\n",
              "      <td>NaN</td>\n",
              "      <td>NaN</td>\n",
              "      <td>NaN</td>\n",
              "      <td>NaN</td>\n",
              "      <td>0.0</td>\n",
              "      <td>1.0</td>\n",
              "    </tr>\n",
              "  </tbody>\n",
              "</table>\n",
              "<p>262537 rows × 20 columns</p>\n",
              "</div>"
            ],
            "text/plain": [
              "        CUSTOMER_NUMBER CLIENT_SEX  ... COUNT_CREDITCARD COUNT_DEBITCARD\n",
              "0                     0          F  ...              0.0             1.0\n",
              "1                     3          M  ...              0.0             1.0\n",
              "2                     9          M  ...              0.0             1.0\n",
              "3                    13          F  ...              0.0             1.0\n",
              "4                    14          F  ...              1.0             0.0\n",
              "...                 ...        ...  ...              ...             ...\n",
              "262532           999153        NaN  ...              0.0             1.0\n",
              "262533           999268        NaN  ...              0.0             1.0\n",
              "262534           999382        NaN  ...              1.0             0.0\n",
              "262535           999395        NaN  ...              0.0             1.0\n",
              "262536           999718        NaN  ...              0.0             1.0\n",
              "\n",
              "[262537 rows x 20 columns]"
            ]
          },
          "metadata": {
            "tags": []
          },
          "execution_count": 226
        }
      ]
    },
    {
      "cell_type": "markdown",
      "metadata": {
        "id": "wA0Ofz7jrPIB"
      },
      "source": [
        "## CLEANSING DATA"
      ]
    },
    {
      "cell_type": "code",
      "metadata": {
        "id": "pPmuGSi2rTPU",
        "colab": {
          "base_uri": "https://localhost:8080/"
        },
        "outputId": "f98f8483-a6e6-4c94-f7a6-25e09615c140"
      },
      "source": [
        "df_merged.isna().sum()"
      ],
      "execution_count": null,
      "outputs": [
        {
          "output_type": "execute_result",
          "data": {
            "text/plain": [
              "CUSTOMER_NUMBER             0\n",
              "CLIENT_SEX             128375\n",
              "STAFF_VIB              128375\n",
              "EB_REGISTER_CHANNEL    128375\n",
              "SMS                    128375\n",
              "VERIFY_METHOD          128375\n",
              "age                    128375\n",
              "TOTAL_TRANS_AMOUNT     128375\n",
              "TRANS_NO               128375\n",
              "active_count           128375\n",
              "activehour_mean        128375\n",
              "left2                  128375\n",
              "current account         38720\n",
              "term account            38720\n",
              "COUNT_CA_ACCT           38720\n",
              "COUNT_TD_ACCT           38720\n",
              "COUNT_OF_LOAN          160523\n",
              "AVG_LOAN_AMOUNT        160523\n",
              "COUNT_CREDITCARD       112078\n",
              "COUNT_DEBITCARD        112078\n",
              "dtype: int64"
            ]
          },
          "metadata": {
            "tags": []
          },
          "execution_count": 227
        }
      ]
    },
    {
      "cell_type": "code",
      "metadata": {
        "id": "RRH7OGopsoX4",
        "colab": {
          "base_uri": "https://localhost:8080/",
          "height": 622
        },
        "outputId": "cf26ffa5-49bf-4bab-fbac-9183b31f5ba5"
      },
      "source": [
        "df_merged = df_merged.dropna(subset=['CLIENT_SEX'])\n",
        "df_merged.replace('a',0, inplace=True)\n",
        "df_merged.fillna(0,inplace=True)\n",
        "df_merged"
      ],
      "execution_count": null,
      "outputs": [
        {
          "output_type": "stream",
          "text": [
            "/usr/local/lib/python3.7/dist-packages/pandas/core/frame.py:4389: SettingWithCopyWarning: \n",
            "A value is trying to be set on a copy of a slice from a DataFrame\n",
            "\n",
            "See the caveats in the documentation: https://pandas.pydata.org/pandas-docs/stable/user_guide/indexing.html#returning-a-view-versus-a-copy\n",
            "  method=method,\n",
            "/usr/local/lib/python3.7/dist-packages/pandas/core/frame.py:4327: SettingWithCopyWarning: \n",
            "A value is trying to be set on a copy of a slice from a DataFrame\n",
            "\n",
            "See the caveats in the documentation: https://pandas.pydata.org/pandas-docs/stable/user_guide/indexing.html#returning-a-view-versus-a-copy\n",
            "  downcast=downcast,\n"
          ],
          "name": "stderr"
        },
        {
          "output_type": "execute_result",
          "data": {
            "text/html": [
              "<div>\n",
              "<style scoped>\n",
              "    .dataframe tbody tr th:only-of-type {\n",
              "        vertical-align: middle;\n",
              "    }\n",
              "\n",
              "    .dataframe tbody tr th {\n",
              "        vertical-align: top;\n",
              "    }\n",
              "\n",
              "    .dataframe thead th {\n",
              "        text-align: right;\n",
              "    }\n",
              "</style>\n",
              "<table border=\"1\" class=\"dataframe\">\n",
              "  <thead>\n",
              "    <tr style=\"text-align: right;\">\n",
              "      <th></th>\n",
              "      <th>CUSTOMER_NUMBER</th>\n",
              "      <th>CLIENT_SEX</th>\n",
              "      <th>STAFF_VIB</th>\n",
              "      <th>EB_REGISTER_CHANNEL</th>\n",
              "      <th>SMS</th>\n",
              "      <th>VERIFY_METHOD</th>\n",
              "      <th>age</th>\n",
              "      <th>TOTAL_TRANS_AMOUNT</th>\n",
              "      <th>TRANS_NO</th>\n",
              "      <th>active_count</th>\n",
              "      <th>activehour_mean</th>\n",
              "      <th>left2</th>\n",
              "      <th>current account</th>\n",
              "      <th>term account</th>\n",
              "      <th>COUNT_CA_ACCT</th>\n",
              "      <th>COUNT_TD_ACCT</th>\n",
              "      <th>COUNT_OF_LOAN</th>\n",
              "      <th>AVG_LOAN_AMOUNT</th>\n",
              "      <th>COUNT_CREDITCARD</th>\n",
              "      <th>COUNT_DEBITCARD</th>\n",
              "    </tr>\n",
              "  </thead>\n",
              "  <tbody>\n",
              "    <tr>\n",
              "      <th>0</th>\n",
              "      <td>0</td>\n",
              "      <td>F</td>\n",
              "      <td>N</td>\n",
              "      <td>BRANCH</td>\n",
              "      <td>N</td>\n",
              "      <td>SMART_OTP</td>\n",
              "      <td>31.0</td>\n",
              "      <td>249819000.0</td>\n",
              "      <td>11.0</td>\n",
              "      <td>12.0</td>\n",
              "      <td>13.095238</td>\n",
              "      <td>0</td>\n",
              "      <td>92856840.85</td>\n",
              "      <td>0.00</td>\n",
              "      <td>1.0</td>\n",
              "      <td>0.0</td>\n",
              "      <td>0.0</td>\n",
              "      <td>0.000000e+00</td>\n",
              "      <td>0.0</td>\n",
              "      <td>1.0</td>\n",
              "    </tr>\n",
              "    <tr>\n",
              "      <th>1</th>\n",
              "      <td>3</td>\n",
              "      <td>M</td>\n",
              "      <td>N</td>\n",
              "      <td>MYVIB</td>\n",
              "      <td>Y</td>\n",
              "      <td>SMART_OTP</td>\n",
              "      <td>32.0</td>\n",
              "      <td>0.0</td>\n",
              "      <td>0.0</td>\n",
              "      <td>14.0</td>\n",
              "      <td>15.478261</td>\n",
              "      <td>0</td>\n",
              "      <td>3722174.98</td>\n",
              "      <td>0.00</td>\n",
              "      <td>1.0</td>\n",
              "      <td>0.0</td>\n",
              "      <td>0.0</td>\n",
              "      <td>0.000000e+00</td>\n",
              "      <td>0.0</td>\n",
              "      <td>1.0</td>\n",
              "    </tr>\n",
              "    <tr>\n",
              "      <th>2</th>\n",
              "      <td>9</td>\n",
              "      <td>M</td>\n",
              "      <td>N</td>\n",
              "      <td>BRANCH</td>\n",
              "      <td>Y</td>\n",
              "      <td>SMART_OTP</td>\n",
              "      <td>37.0</td>\n",
              "      <td>11694976.0</td>\n",
              "      <td>6.0</td>\n",
              "      <td>34.0</td>\n",
              "      <td>13.179894</td>\n",
              "      <td>0</td>\n",
              "      <td>12951325.77</td>\n",
              "      <td>0.00</td>\n",
              "      <td>1.0</td>\n",
              "      <td>0.0</td>\n",
              "      <td>1.0</td>\n",
              "      <td>4.624167e+09</td>\n",
              "      <td>0.0</td>\n",
              "      <td>1.0</td>\n",
              "    </tr>\n",
              "    <tr>\n",
              "      <th>3</th>\n",
              "      <td>13</td>\n",
              "      <td>F</td>\n",
              "      <td>N</td>\n",
              "      <td>BRANCH</td>\n",
              "      <td>N</td>\n",
              "      <td>SMART_OTP</td>\n",
              "      <td>26.0</td>\n",
              "      <td>0.0</td>\n",
              "      <td>0.0</td>\n",
              "      <td>2.0</td>\n",
              "      <td>17.307692</td>\n",
              "      <td>1</td>\n",
              "      <td>0.00</td>\n",
              "      <td>0.00</td>\n",
              "      <td>0.0</td>\n",
              "      <td>0.0</td>\n",
              "      <td>0.0</td>\n",
              "      <td>0.000000e+00</td>\n",
              "      <td>0.0</td>\n",
              "      <td>1.0</td>\n",
              "    </tr>\n",
              "    <tr>\n",
              "      <th>4</th>\n",
              "      <td>14</td>\n",
              "      <td>F</td>\n",
              "      <td>N</td>\n",
              "      <td>AUTO-JOB</td>\n",
              "      <td>N</td>\n",
              "      <td>SMART_OTP</td>\n",
              "      <td>28.0</td>\n",
              "      <td>0.0</td>\n",
              "      <td>0.0</td>\n",
              "      <td>0.0</td>\n",
              "      <td>0.000000</td>\n",
              "      <td>1</td>\n",
              "      <td>0.00</td>\n",
              "      <td>0.00</td>\n",
              "      <td>0.0</td>\n",
              "      <td>0.0</td>\n",
              "      <td>1.0</td>\n",
              "      <td>7.417049e+07</td>\n",
              "      <td>1.0</td>\n",
              "      <td>0.0</td>\n",
              "    </tr>\n",
              "    <tr>\n",
              "      <th>...</th>\n",
              "      <td>...</td>\n",
              "      <td>...</td>\n",
              "      <td>...</td>\n",
              "      <td>...</td>\n",
              "      <td>...</td>\n",
              "      <td>...</td>\n",
              "      <td>...</td>\n",
              "      <td>...</td>\n",
              "      <td>...</td>\n",
              "      <td>...</td>\n",
              "      <td>...</td>\n",
              "      <td>...</td>\n",
              "      <td>...</td>\n",
              "      <td>...</td>\n",
              "      <td>...</td>\n",
              "      <td>...</td>\n",
              "      <td>...</td>\n",
              "      <td>...</td>\n",
              "      <td>...</td>\n",
              "      <td>...</td>\n",
              "    </tr>\n",
              "    <tr>\n",
              "      <th>134157</th>\n",
              "      <td>999969</td>\n",
              "      <td>F</td>\n",
              "      <td>N</td>\n",
              "      <td>BRANCH</td>\n",
              "      <td>Y</td>\n",
              "      <td>SMART_OTP</td>\n",
              "      <td>24.0</td>\n",
              "      <td>64672500.0</td>\n",
              "      <td>97.0</td>\n",
              "      <td>85.0</td>\n",
              "      <td>13.921053</td>\n",
              "      <td>0</td>\n",
              "      <td>22186863.32</td>\n",
              "      <td>96774193.55</td>\n",
              "      <td>1.0</td>\n",
              "      <td>0.0</td>\n",
              "      <td>0.0</td>\n",
              "      <td>0.000000e+00</td>\n",
              "      <td>0.0</td>\n",
              "      <td>1.0</td>\n",
              "    </tr>\n",
              "    <tr>\n",
              "      <th>134158</th>\n",
              "      <td>999972</td>\n",
              "      <td>M</td>\n",
              "      <td>N</td>\n",
              "      <td>BRANCH</td>\n",
              "      <td>Y</td>\n",
              "      <td>SMART_OTP</td>\n",
              "      <td>28.0</td>\n",
              "      <td>25220000.0</td>\n",
              "      <td>11.0</td>\n",
              "      <td>19.0</td>\n",
              "      <td>15.669173</td>\n",
              "      <td>0</td>\n",
              "      <td>8570019.00</td>\n",
              "      <td>0.00</td>\n",
              "      <td>1.0</td>\n",
              "      <td>0.0</td>\n",
              "      <td>0.0</td>\n",
              "      <td>0.000000e+00</td>\n",
              "      <td>0.0</td>\n",
              "      <td>1.0</td>\n",
              "    </tr>\n",
              "    <tr>\n",
              "      <th>134159</th>\n",
              "      <td>999982</td>\n",
              "      <td>M</td>\n",
              "      <td>N</td>\n",
              "      <td>AUTO-JOB</td>\n",
              "      <td>N</td>\n",
              "      <td>SMART_OTP</td>\n",
              "      <td>26.0</td>\n",
              "      <td>16325000.0</td>\n",
              "      <td>22.0</td>\n",
              "      <td>108.0</td>\n",
              "      <td>13.748099</td>\n",
              "      <td>0</td>\n",
              "      <td>474193.55</td>\n",
              "      <td>0.00</td>\n",
              "      <td>1.0</td>\n",
              "      <td>0.0</td>\n",
              "      <td>1.0</td>\n",
              "      <td>2.351376e+08</td>\n",
              "      <td>1.0</td>\n",
              "      <td>0.0</td>\n",
              "    </tr>\n",
              "    <tr>\n",
              "      <th>134160</th>\n",
              "      <td>999996</td>\n",
              "      <td>M</td>\n",
              "      <td>N</td>\n",
              "      <td>BRANCH</td>\n",
              "      <td>Y</td>\n",
              "      <td>SMART_OTP</td>\n",
              "      <td>62.0</td>\n",
              "      <td>0.0</td>\n",
              "      <td>0.0</td>\n",
              "      <td>4.0</td>\n",
              "      <td>15.045455</td>\n",
              "      <td>0</td>\n",
              "      <td>64413149.41</td>\n",
              "      <td>0.00</td>\n",
              "      <td>1.0</td>\n",
              "      <td>0.0</td>\n",
              "      <td>0.0</td>\n",
              "      <td>0.000000e+00</td>\n",
              "      <td>0.0</td>\n",
              "      <td>1.0</td>\n",
              "    </tr>\n",
              "    <tr>\n",
              "      <th>134161</th>\n",
              "      <td>999997</td>\n",
              "      <td>M</td>\n",
              "      <td>N</td>\n",
              "      <td>BRANCH</td>\n",
              "      <td>N</td>\n",
              "      <td>SMART_OTP</td>\n",
              "      <td>25.0</td>\n",
              "      <td>0.0</td>\n",
              "      <td>0.0</td>\n",
              "      <td>0.0</td>\n",
              "      <td>0.000000</td>\n",
              "      <td>1</td>\n",
              "      <td>925645.16</td>\n",
              "      <td>0.00</td>\n",
              "      <td>1.0</td>\n",
              "      <td>0.0</td>\n",
              "      <td>0.0</td>\n",
              "      <td>0.000000e+00</td>\n",
              "      <td>0.0</td>\n",
              "      <td>0.0</td>\n",
              "    </tr>\n",
              "  </tbody>\n",
              "</table>\n",
              "<p>134162 rows × 20 columns</p>\n",
              "</div>"
            ],
            "text/plain": [
              "        CUSTOMER_NUMBER CLIENT_SEX  ... COUNT_CREDITCARD COUNT_DEBITCARD\n",
              "0                     0          F  ...              0.0             1.0\n",
              "1                     3          M  ...              0.0             1.0\n",
              "2                     9          M  ...              0.0             1.0\n",
              "3                    13          F  ...              0.0             1.0\n",
              "4                    14          F  ...              1.0             0.0\n",
              "...                 ...        ...  ...              ...             ...\n",
              "134157           999969          F  ...              0.0             1.0\n",
              "134158           999972          M  ...              0.0             1.0\n",
              "134159           999982          M  ...              1.0             0.0\n",
              "134160           999996          M  ...              0.0             1.0\n",
              "134161           999997          M  ...              0.0             0.0\n",
              "\n",
              "[134162 rows x 20 columns]"
            ]
          },
          "metadata": {
            "tags": []
          },
          "execution_count": 228
        }
      ]
    },
    {
      "cell_type": "code",
      "metadata": {
        "colab": {
          "base_uri": "https://localhost:8080/"
        },
        "id": "P42SybhHU5U1",
        "outputId": "0910c7cb-3234-4af4-ddb2-da3007eacae6"
      },
      "source": [
        "\n",
        "df_merged[['age','left2','TOTAL_TRANS_AMOUNT','TRANS_NO','active_count','activehour_mean','current account','term account','COUNT_CA_ACCT','COUNT_TD_ACCT','COUNT_OF_LOAN','AVG_LOAN_AMOUNT','COUNT_CREDITCARD','COUNT_DEBITCARD']] = df_merged[['age','left2','TOTAL_TRANS_AMOUNT','TRANS_NO','active_count','activehour_mean','current account','term account','COUNT_CA_ACCT','COUNT_TD_ACCT','COUNT_OF_LOAN','AVG_LOAN_AMOUNT','COUNT_CREDITCARD','COUNT_DEBITCARD']].apply(pd.to_numeric)\n",
        "df_merged['number of products'] = df_merged['COUNT_CA_ACCT'] + df_merged['COUNT_OF_LOAN'] + df_merged['COUNT_TD_ACCT']\n",
        "\n"
      ],
      "execution_count": null,
      "outputs": [
        {
          "output_type": "stream",
          "text": [
            "/usr/local/lib/python3.7/dist-packages/pandas/core/frame.py:3069: SettingWithCopyWarning: \n",
            "A value is trying to be set on a copy of a slice from a DataFrame.\n",
            "Try using .loc[row_indexer,col_indexer] = value instead\n",
            "\n",
            "See the caveats in the documentation: https://pandas.pydata.org/pandas-docs/stable/user_guide/indexing.html#returning-a-view-versus-a-copy\n",
            "  self[k1] = value[k2]\n",
            "/usr/local/lib/python3.7/dist-packages/ipykernel_launcher.py:3: SettingWithCopyWarning: \n",
            "A value is trying to be set on a copy of a slice from a DataFrame.\n",
            "Try using .loc[row_indexer,col_indexer] = value instead\n",
            "\n",
            "See the caveats in the documentation: https://pandas.pydata.org/pandas-docs/stable/user_guide/indexing.html#returning-a-view-versus-a-copy\n",
            "  This is separate from the ipykernel package so we can avoid doing imports until\n"
          ],
          "name": "stderr"
        }
      ]
    },
    {
      "cell_type": "code",
      "metadata": {
        "id": "ISo7woF-XDcr"
      },
      "source": [
        "df_merged = df_merged.drop(['CUSTOMER_NUMBER','STAFF_VIB','EB_REGISTER_CHANNEL','SMS','VERIFY_METHOD','COUNT_CA_ACCT','COUNT_TD_ACCT','COUNT_OF_LOAN','TRANS_NO','active_count'], axis = 1)"
      ],
      "execution_count": null,
      "outputs": []
    },
    {
      "cell_type": "markdown",
      "metadata": {
        "id": "mHuI4tiE-Ajy"
      },
      "source": [
        "## EXPLORING DATA"
      ]
    },
    {
      "cell_type": "code",
      "metadata": {
        "id": "QnJ8yNMV-I22",
        "colab": {
          "base_uri": "https://localhost:8080/"
        },
        "outputId": "62c66144-942e-4acf-ec49-2137848c6711"
      },
      "source": [
        "## Phan loai bien\n",
        "categorial_var = []\n",
        "numerical_var = []\n",
        "for col in df_merged.columns: \n",
        "    if df_merged[col].nunique() < 40 or df_merged[col].dtype == object :#số giá trị phân biệt ít và kiểu dữ liệu là object\n",
        "        categorial_var.append(col)\n",
        "    \n",
        "    else:\n",
        "        numerical_var.append(col)\n",
        "categorial_var"
      ],
      "execution_count": null,
      "outputs": [
        {
          "output_type": "execute_result",
          "data": {
            "text/plain": [
              "['CLIENT_SEX',\n",
              " 'left2',\n",
              " 'COUNT_CREDITCARD',\n",
              " 'COUNT_DEBITCARD',\n",
              " 'number of products']"
            ]
          },
          "metadata": {
            "tags": []
          },
          "execution_count": 231
        }
      ]
    },
    {
      "cell_type": "code",
      "metadata": {
        "id": "MN902uPeL_4m",
        "colab": {
          "base_uri": "https://localhost:8080/"
        },
        "outputId": "b6915ffc-97a2-4d44-c150-7035a40a973e"
      },
      "source": [
        "df_merged.shape[0]"
      ],
      "execution_count": null,
      "outputs": [
        {
          "output_type": "execute_result",
          "data": {
            "text/plain": [
              "134162"
            ]
          },
          "metadata": {
            "tags": []
          },
          "execution_count": 232
        }
      ]
    },
    {
      "cell_type": "code",
      "metadata": {
        "id": "5BDntPht09yp",
        "colab": {
          "base_uri": "https://localhost:8080/",
          "height": 1000
        },
        "outputId": "2d2ea735-57d5-4136-de58-8376ea682ce3"
      },
      "source": [
        "### OUTLIER DETECTION\n",
        "for col in categorial_var:\n",
        "  stats = df_merged[col].value_counts()\n",
        "  stats = stats/df_merged.shape[0]\n",
        "  outlier_values = stats[stats < 0.001]\n",
        "  if len(outlier_values) > 0:\n",
        "    print(\"Outlier detected:\", ';'.join([str(i) for i in outlier_values.index]))\n",
        "  df_merged[col].value_counts().plot(kind = 'bar')\n",
        "  plt.title(f\"Value distribution of {col}\")\n",
        "  plt.show()\n",
        "  \n"
      ],
      "execution_count": null,
      "outputs": [
        {
          "output_type": "display_data",
          "data": {
            "image/png": "[encoded data removed]",
            "text/plain": [
              "<Figure size 432x288 with 1 Axes>"
            ]
          },
          "metadata": {
            "tags": [],
            "needs_background": "light"
          }
        },
        {
          "output_type": "display_data",
          "data": {
            "image/png": "[encoded data removed]",
            "text/plain": [
              "<Figure size 432x288 with 1 Axes>"
            ]
          },
          "metadata": {
            "tags": [],
            "needs_background": "light"
          }
        },
        {
          "output_type": "display_data",
          "data": {
            "image/png": "[encoded data removed]",
            "text/plain": [
              "<Figure size 432x288 with 1 Axes>"
            ]
          },
          "metadata": {
            "tags": [],
            "needs_background": "light"
          }
        },
        {
          "output_type": "display_data",
          "data": {
            "image/png": "[encoded data removed]",
            "text/plain": [
              "<Figure size 432x288 with 1 Axes>"
            ]
          },
          "metadata": {
            "tags": [],
            "needs_background": "light"
          }
        },
        {
          "output_type": "display_data",
          "data": {
            "image/png": "[encoded data removed]",
            "text/plain": [
              "<Figure size 432x288 with 1 Axes>"
            ]
          },
          "metadata": {
            "tags": [],
            "needs_background": "light"
          }
        }
      ]
    },
    {
      "cell_type": "code",
      "metadata": {
        "id": "8HE0QSNMVSUp"
      },
      "source": [
        "### xu li outlier trong bien age\n",
        "df_merged = df_merged[df_merged['age'] <100]"
      ],
      "execution_count": null,
      "outputs": []
    },
    {
      "cell_type": "code",
      "metadata": {
        "id": "7OBDUYGv3TJS",
        "colab": {
          "base_uri": "https://localhost:8080/",
          "height": 1000
        },
        "outputId": "663cf8b1-6234-422e-e594-4ae80ca16b93"
      },
      "source": [
        "for col in numerical_var:\n",
        "    df_merged[col].plot(kind= \"box\")\n",
        "    plt.title(f\"Distribution of {col}\")\n",
        "    plt.show()\n"
      ],
      "execution_count": null,
      "outputs": [
        {
          "output_type": "display_data",
          "data": {
            "image/png": "[encoded data removed]",
            "text/plain": [
              "<Figure size 432x288 with 1 Axes>"
            ]
          },
          "metadata": {
            "tags": [],
            "needs_background": "light"
          }
        },
        {
          "output_type": "display_data",
          "data": {
            "image/png": "[encoded data removed]",
            "text/plain": [
              "<Figure size 432x288 with 1 Axes>"
            ]
          },
          "metadata": {
            "tags": [],
            "needs_background": "light"
          }
        },
        {
          "output_type": "display_data",
          "data": {
            "image/png": "[encoded data removed]",
            "text/plain": [
              "<Figure size 432x288 with 1 Axes>"
            ]
          },
          "metadata": {
            "tags": [],
            "needs_background": "light"
          }
        },
        {
          "output_type": "display_data",
          "data": {
            "image/png": "[encoded data removed]",
            "text/plain": [
              "<Figure size 432x288 with 1 Axes>"
            ]
          },
          "metadata": {
            "tags": [],
            "needs_background": "light"
          }
        },
        {
          "output_type": "display_data",
          "data": {
            "image/png": "[encoded data removed]",
            "text/plain": [
              "<Figure size 432x288 with 1 Axes>"
            ]
          },
          "metadata": {
            "tags": [],
            "needs_background": "light"
          }
        },
        {
          "output_type": "display_data",
          "data": {
            "image/png": "[encoded data removed]",
            "text/plain": [
              "<Figure size 432x288 with 1 Axes>"
            ]
          },
          "metadata": {
            "tags": [],
            "needs_background": "light"
          }
        }
      ]
    },
    {
      "cell_type": "code",
      "metadata": {
        "id": "liXR1wTvWE-J",
        "colab": {
          "base_uri": "https://localhost:8080/",
          "height": 1000
        },
        "outputId": "abd9a879-ac11-4c05-aa89-66e455990165"
      },
      "source": [
        "for col in numerical_var:\n",
        "    df_merged[col].plot(kind= \"hist\")\n",
        "    plt.title(f\"Distribution of {col}\")\n",
        "    plt.show()"
      ],
      "execution_count": null,
      "outputs": [
        {
          "output_type": "display_data",
          "data": {
            "image/png": "[encoded data removed]",
            "text/plain": [
              "<Figure size 432x288 with 1 Axes>"
            ]
          },
          "metadata": {
            "tags": [],
            "needs_background": "light"
          }
        },
        {
          "output_type": "display_data",
          "data": {
            "image/png": "[encoded data removed]",
            "text/plain": [
              "<Figure size 432x288 with 1 Axes>"
            ]
          },
          "metadata": {
            "tags": [],
            "needs_background": "light"
          }
        },
        {
          "output_type": "display_data",
          "data": {
            "image/png": "[encoded data removed]",
            "text/plain": [
              "<Figure size 432x288 with 1 Axes>"
            ]
          },
          "metadata": {
            "tags": [],
            "needs_background": "light"
          }
        },
        {
          "output_type": "display_data",
          "data": {
            "image/png": "[encoded data removed]",
            "text/plain": [
              "<Figure size 432x288 with 1 Axes>"
            ]
          },
          "metadata": {
            "tags": [],
            "needs_background": "light"
          }
        },
        {
          "output_type": "display_data",
          "data": {
            "image/png": "[encoded data removed]",
            "text/plain": [
              "<Figure size 432x288 with 1 Axes>"
            ]
          },
          "metadata": {
            "tags": [],
            "needs_background": "light"
          }
        },
        {
          "output_type": "display_data",
          "data": {
            "image/png": "[encoded data removed]",
            "text/plain": [
              "<Figure size 432x288 with 1 Axes>"
            ]
          },
          "metadata": {
            "tags": [],
            "needs_background": "light"
          }
        }
      ]
    },
    {
      "cell_type": "code",
      "metadata": {
        "id": "8juVKGtqJ09l"
      },
      "source": [
        "df_merged = df_merged[df_merged['age']<100]"
      ],
      "execution_count": null,
      "outputs": []
    },
    {
      "cell_type": "markdown",
      "metadata": {
        "id": "6vvIY_lF59KA"
      },
      "source": [
        "## PHAAN TICH DON NHAN TO\n"
      ]
    },
    {
      "cell_type": "code",
      "metadata": {
        "id": "Ie_vO-wJ552M",
        "colab": {
          "base_uri": "https://localhost:8080/",
          "height": 1000
        },
        "outputId": "cbecf6f5-0e52-435e-fe6e-819d3b4c6a1e"
      },
      "source": [
        "categorial_var.remove('left2')\n",
        "for var in categorial_var:\n",
        "    df_merged.groupby(var).agg({'left2':'mean'}).plot(kind='bar', alpha =0.8, color='pink')\n",
        "    plt.title(f\"Churn Rate by {var}\")\n",
        "    plt.show()\n"
      ],
      "execution_count": null,
      "outputs": [
        {
          "output_type": "display_data",
          "data": {
            "image/png": "[encoded data removed]",
            "text/plain": [
              "<Figure size 432x288 with 1 Axes>"
            ]
          },
          "metadata": {
            "tags": [],
            "needs_background": "light"
          }
        },
        {
          "output_type": "display_data",
          "data": {
            "image/png": "[encoded data removed]",
            "text/plain": [
              "<Figure size 432x288 with 1 Axes>"
            ]
          },
          "metadata": {
            "tags": [],
            "needs_background": "light"
          }
        },
        {
          "output_type": "display_data",
          "data": {
            "image/png": "[encoded data removed]",
            "text/plain": [
              "<Figure size 432x288 with 1 Axes>"
            ]
          },
          "metadata": {
            "tags": [],
            "needs_background": "light"
          }
        },
        {
          "output_type": "display_data",
          "data": {
            "image/png": "[encoded data removed]",
            "text/plain": [
              "<Figure size 432x288 with 1 Axes>"
            ]
          },
          "metadata": {
            "tags": [],
            "needs_background": "light"
          }
        }
      ]
    },
    {
      "cell_type": "code",
      "metadata": {
        "id": "ZOf5ycPCsyP5"
      },
      "source": [
        ""
      ],
      "execution_count": null,
      "outputs": []
    },
    {
      "cell_type": "code",
      "metadata": {
        "id": "tVQd4ZBZdG7Q"
      },
      "source": [
        ""
      ],
      "execution_count": null,
      "outputs": []
    },
    {
      "cell_type": "code",
      "metadata": {
        "id": "teOiU_D27zFw",
        "colab": {
          "base_uri": "https://localhost:8080/",
          "height": 1000
        },
        "outputId": "b9e2865f-45de-420b-e097-3d416552f730"
      },
      "source": [
        "for var in numerical_var:\n",
        "    sns.distplot(df_merged[df_merged.left2 == 0][var], label = 'Non-Churn', color='blue')\n",
        "    sns.distplot(df_merged[df_merged.left2==1][var], label = 'Churn',color='red')\n",
        "    plt.title(f'Distribution of {var} by Churn status')\n",
        "    plt.legend()\n",
        "    plt.show()"
      ],
      "execution_count": null,
      "outputs": [
        {
          "output_type": "stream",
          "text": [
            "/usr/local/lib/python3.7/dist-packages/seaborn/distributions.py:2557: FutureWarning: `distplot` is a deprecated function and will be removed in a future version. Please adapt your code to use either `displot` (a figure-level function with similar flexibility) or `histplot` (an axes-level function for histograms).\n",
            "  warnings.warn(msg, FutureWarning)\n",
            "/usr/local/lib/python3.7/dist-packages/seaborn/distributions.py:2557: FutureWarning: `distplot` is a deprecated function and will be removed in a future version. Please adapt your code to use either `displot` (a figure-level function with similar flexibility) or `histplot` (an axes-level function for histograms).\n",
            "  warnings.warn(msg, FutureWarning)\n"
          ],
          "name": "stderr"
        },
        {
          "output_type": "display_data",
          "data": {
            "image/png": "[encoded data removed]",
            "text/plain": [
              "<Figure size 432x288 with 1 Axes>"
            ]
          },
          "metadata": {
            "tags": [],
            "needs_background": "light"
          }
        },
        {
          "output_type": "stream",
          "text": [
            "/usr/local/lib/python3.7/dist-packages/seaborn/distributions.py:2557: FutureWarning: `distplot` is a deprecated function and will be removed in a future version. Please adapt your code to use either `displot` (a figure-level function with similar flexibility) or `histplot` (an axes-level function for histograms).\n",
            "  warnings.warn(msg, FutureWarning)\n",
            "/usr/local/lib/python3.7/dist-packages/seaborn/distributions.py:2557: FutureWarning: `distplot` is a deprecated function and will be removed in a future version. Please adapt your code to use either `displot` (a figure-level function with similar flexibility) or `histplot` (an axes-level function for histograms).\n",
            "  warnings.warn(msg, FutureWarning)\n"
          ],
          "name": "stderr"
        },
        {
          "output_type": "display_data",
          "data": {
            "image/png": "[encoded data removed]",
            "text/plain": [
              "<Figure size 432x288 with 1 Axes>"
            ]
          },
          "metadata": {
            "tags": [],
            "needs_background": "light"
          }
        },
        {
          "output_type": "stream",
          "text": [
            "/usr/local/lib/python3.7/dist-packages/seaborn/distributions.py:2557: FutureWarning: `distplot` is a deprecated function and will be removed in a future version. Please adapt your code to use either `displot` (a figure-level function with similar flexibility) or `histplot` (an axes-level function for histograms).\n",
            "  warnings.warn(msg, FutureWarning)\n",
            "/usr/local/lib/python3.7/dist-packages/seaborn/distributions.py:2557: FutureWarning: `distplot` is a deprecated function and will be removed in a future version. Please adapt your code to use either `displot` (a figure-level function with similar flexibility) or `histplot` (an axes-level function for histograms).\n",
            "  warnings.warn(msg, FutureWarning)\n"
          ],
          "name": "stderr"
        },
        {
          "output_type": "display_data",
          "data": {
            "image/png": "[encoded data removed]",
            "text/plain": [
              "<Figure size 432x288 with 1 Axes>"
            ]
          },
          "metadata": {
            "tags": [],
            "needs_background": "light"
          }
        },
        {
          "output_type": "stream",
          "text": [
            "/usr/local/lib/python3.7/dist-packages/seaborn/distributions.py:2557: FutureWarning: `distplot` is a deprecated function and will be removed in a future version. Please adapt your code to use either `displot` (a figure-level function with similar flexibility) or `histplot` (an axes-level function for histograms).\n",
            "  warnings.warn(msg, FutureWarning)\n",
            "/usr/local/lib/python3.7/dist-packages/seaborn/distributions.py:2557: FutureWarning: `distplot` is a deprecated function and will be removed in a future version. Please adapt your code to use either `displot` (a figure-level function with similar flexibility) or `histplot` (an axes-level function for histograms).\n",
            "  warnings.warn(msg, FutureWarning)\n"
          ],
          "name": "stderr"
        },
        {
          "output_type": "display_data",
          "data": {
            "image/png": "[encoded data removed]",
            "text/plain": [
              "<Figure size 432x288 with 1 Axes>"
            ]
          },
          "metadata": {
            "tags": [],
            "needs_background": "light"
          }
        },
        {
          "output_type": "stream",
          "text": [
            "/usr/local/lib/python3.7/dist-packages/seaborn/distributions.py:2557: FutureWarning: `distplot` is a deprecated function and will be removed in a future version. Please adapt your code to use either `displot` (a figure-level function with similar flexibility) or `histplot` (an axes-level function for histograms).\n",
            "  warnings.warn(msg, FutureWarning)\n",
            "/usr/local/lib/python3.7/dist-packages/seaborn/distributions.py:2557: FutureWarning: `distplot` is a deprecated function and will be removed in a future version. Please adapt your code to use either `displot` (a figure-level function with similar flexibility) or `histplot` (an axes-level function for histograms).\n",
            "  warnings.warn(msg, FutureWarning)\n"
          ],
          "name": "stderr"
        },
        {
          "output_type": "display_data",
          "data": {
            "image/png": "[encoded data removed]",
            "text/plain": [
              "<Figure size 432x288 with 1 Axes>"
            ]
          },
          "metadata": {
            "tags": [],
            "needs_background": "light"
          }
        },
        {
          "output_type": "stream",
          "text": [
            "/usr/local/lib/python3.7/dist-packages/seaborn/distributions.py:2557: FutureWarning: `distplot` is a deprecated function and will be removed in a future version. Please adapt your code to use either `displot` (a figure-level function with similar flexibility) or `histplot` (an axes-level function for histograms).\n",
            "  warnings.warn(msg, FutureWarning)\n",
            "/usr/local/lib/python3.7/dist-packages/seaborn/distributions.py:2557: FutureWarning: `distplot` is a deprecated function and will be removed in a future version. Please adapt your code to use either `displot` (a figure-level function with similar flexibility) or `histplot` (an axes-level function for histograms).\n",
            "  warnings.warn(msg, FutureWarning)\n"
          ],
          "name": "stderr"
        },
        {
          "output_type": "display_data",
          "data": {
            "image/png": "[encoded data removed]",
            "text/plain": [
              "<Figure size 432x288 with 1 Axes>"
            ]
          },
          "metadata": {
            "tags": [],
            "needs_background": "light"
          }
        }
      ]
    },
    {
      "cell_type": "markdown",
      "metadata": {
        "id": "LV_mwImweXPO"
      },
      "source": [
        "### MODELLING"
      ]
    },
    {
      "cell_type": "code",
      "metadata": {
        "id": "MZLwP4facwUh"
      },
      "source": [
        "### One-hot encoding categorical variables\n",
        "transformed_df = pd.get_dummies(df_merged)"
      ],
      "execution_count": null,
      "outputs": []
    },
    {
      "cell_type": "code",
      "metadata": {
        "id": "KP_WuPhqc_nK"
      },
      "source": [
        "dep_var = \"left2\"\n",
        "ind_var = list(transformed_df.columns)\n",
        "ind_var.remove(dep_var)"
      ],
      "execution_count": null,
      "outputs": []
    },
    {
      "cell_type": "code",
      "metadata": {
        "id": "mYKKvFOrdJVH"
      },
      "source": [
        "from sklearn.model_selection import train_test_split\n",
        "## Split data into Training set and Test set\n",
        "train_data, test_data = train_test_split(transformed_df, train_size = 0.8,random_state=10, shuffle=True)"
      ],
      "execution_count": null,
      "outputs": []
    },
    {
      "cell_type": "code",
      "metadata": {
        "id": "x0iAfLJddNYM"
      },
      "source": [
        "X_train, X_test = train_data[ind_var], test_data[ind_var]\n",
        "y_train, y_test = train_data[dep_var], test_data[dep_var]"
      ],
      "execution_count": null,
      "outputs": []
    },
    {
      "cell_type": "code",
      "metadata": {
        "id": "WWCbzu8QdRBL"
      },
      "source": [
        "## Start Modelling\n",
        "### Initialize the model with default configuration\n",
        "model = LogisticRegression()"
      ],
      "execution_count": null,
      "outputs": []
    },
    {
      "cell_type": "code",
      "metadata": {
        "colab": {
          "base_uri": "https://localhost:8080/"
        },
        "id": "NuszBgF5dT9d",
        "outputId": "04d205c3-9b65-4c08-bbe9-47e37a7a3740"
      },
      "source": [
        "### Training the model\n",
        "model.fit(X_train, y_train)"
      ],
      "execution_count": null,
      "outputs": [
        {
          "output_type": "execute_result",
          "data": {
            "text/plain": [
              "LogisticRegression(C=1.0, class_weight=None, dual=False, fit_intercept=True,\n",
              "                   intercept_scaling=1, l1_ratio=None, max_iter=100,\n",
              "                   multi_class='auto', n_jobs=None, penalty='l2',\n",
              "                   random_state=None, solver='lbfgs', tol=0.0001, verbose=0,\n",
              "                   warm_start=False)"
            ]
          },
          "metadata": {
            "tags": []
          },
          "execution_count": 245
        }
      ]
    },
    {
      "cell_type": "code",
      "metadata": {
        "id": "_1nWY-efdWVy"
      },
      "source": [
        "## Evaluate model's performance\n",
        "y_test_predicted = model.predict(X_test)\n"
      ],
      "execution_count": null,
      "outputs": []
    },
    {
      "cell_type": "code",
      "metadata": {
        "colab": {
          "base_uri": "https://localhost:8080/"
        },
        "id": "nVYUgr8pdgBu",
        "outputId": "4124c797-799b-49a9-fb27-9a4223bee715"
      },
      "source": [
        "y_test_predicted"
      ],
      "execution_count": null,
      "outputs": [
        {
          "output_type": "execute_result",
          "data": {
            "text/plain": [
              "array([0, 0, 0, ..., 1, 0, 1], dtype=int64)"
            ]
          },
          "metadata": {
            "tags": []
          },
          "execution_count": 247
        }
      ]
    },
    {
      "cell_type": "code",
      "metadata": {
        "colab": {
          "base_uri": "https://localhost:8080/"
        },
        "id": "JnnY9ZGydrx1",
        "outputId": "6f6ab6cc-883f-40fe-a035-a7435702b1b9"
      },
      "source": [
        "acc = sum(y_test == y_test_predicted)/len(y_test)\n",
        "print(\"Model Accuracy\",acc)"
      ],
      "execution_count": null,
      "outputs": [
        {
          "output_type": "stream",
          "text": [
            "Model Accuracy 0.7438133571854502\n"
          ],
          "name": "stdout"
        }
      ]
    }
  ]
}